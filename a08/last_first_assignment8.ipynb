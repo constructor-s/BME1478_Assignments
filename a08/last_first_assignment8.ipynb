{
 "cells": [
  {
   "cell_type": "markdown",
   "metadata": {},
   "source": [
    "# Assignment 8: Exploratory Data Analysis and Visualization"
   ]
  },
  {
   "cell_type": "markdown",
   "metadata": {},
   "source": [
    "## Instructions\n",
    "\n",
    "1. Fill in the code where indicated to complete the assignment. Feel free to add more cells than provided to try things out, and check what your variables look like, to see if you got the right results. Just make sure you have done what is asked for that question and that you don't delete any code we provide you with.\n",
    "\n",
    "2. Rename this `last_first_assignment8.ipynb` file replacing `last` and `first` with your name. Make sure all the outputs are there (run each cell) and then export as `last_first_assignment8.py` as well.\n",
    "\n",
    "3. Submit thes files to Quercus.\n",
    "\n",
    "## Questions and Support\n",
    "1. Please ask class content questions on the class GitHub page: \n",
    "https://github.com/BME1478H/Fall2020class/ Expect a processing time of 1d for us to respond. As such, we cannot guarantee we can address your questions and work through all the troubleshooting in time if you ask them the night before or the day of the assignment deadline. Please plan accordingly. \n",
    "2. Attend Wednesday TA Zoom sessions "
   ]
  },
  {
   "cell_type": "markdown",
   "metadata": {},
   "source": [
    "Before we start, let's generate some example data, load in the data and import the packages we will need.  \n",
    "\n",
    "**Run the following cells to get started and do not change any of the code**."
   ]
  },
  {
   "cell_type": "code",
   "execution_count": null,
   "metadata": {},
   "outputs": [],
   "source": [
    "import pandas as pd\n",
    "import numpy as np\n",
    "import seaborn as sns #visualisation\n",
    "import matplotlib.pyplot as plt #visualisation\n",
    "\n",
    "# load in our gapminder dataset\n",
    "url = 'https://raw.githubusercontent.com/BME1478H/Fall2020class/master/data/world-data-gapminder.csv'\n",
    "world_data = pd.read_csv(url)"
   ]
  },
  {
   "cell_type": "code",
   "execution_count": null,
   "metadata": {},
   "outputs": [],
   "source": [
    "# load pre-downloaded seaborn exercise study dataset for assignment\n",
    "exercise = sns.load_dataset('exercise')\n",
    "exercise.head()"
   ]
  },
  {
   "cell_type": "code",
   "execution_count": null,
   "metadata": {},
   "outputs": [],
   "source": [
    "# load pre-downloaded seaborn fmri-gammas dataset for assignment\n",
    "gammas = sns.load_dataset('gammas')\n",
    "gammas.head()"
   ]
  },
  {
   "cell_type": "code",
   "execution_count": null,
   "metadata": {},
   "outputs": [],
   "source": [
    "`seaborn` comes with a number of pre-loaded datasets you can use to practice plotting and exploratory data analysis. You can see all the available datasets [here](https://github.com/mwaskom/seaborn-data) or by typing `sns.get_dataset_names()`. \n",
    "\n",
    "One dataset we will use is called `exercise` which measures pulse in subjects on either a no fat or low fat diet, at multiple time intervals while during different types of activity/exercise.\n",
    "\n",
    "The other dataset is `gammas` which is a pre-processed dataset of fMRI (functional magnetic resonance imaging) experiments. In the dataset, we have the BOLD (blood oxygen level dependant) signal, which is used as a measure of brain activity of specific regions of interest (ROI), measured across multiple timepoints, in 19 different subjects. \n",
    "___\n",
    "## Task 1 (3 marks)\n",
    "\n",
    "a. What are the three different `ROI` (i.e. brain regions) the experimenters looked at in the `gammas` dataset? (0.5 marks)"
   ]
  },
  {
   "cell_type": "code",
   "execution_count": null,
   "metadata": {},
   "outputs": [],
   "source": [
    "unique_rois = \n",
    "\n",
    "\n",
    "# do not change the code below, write your answer code above\n",
    "print(unique_rois)"
   ]
  },
  {
   "cell_type": "markdown",
   "metadata": {},
   "source": [
    "Hint: use the `unique()` method on the column you are checking.\n",
    "___"
   ]
  },
  {
   "cell_type": "markdown",
   "metadata": {},
   "source": [
    "b. How many unique values for `subject` are there in the study? Final answer should be one number. (0.5 marks)"
   ]
  },
  {
   "cell_type": "code",
   "execution_count": null,
   "metadata": {},
   "outputs": [],
   "source": [
    "no_subjects = \n",
    "\n",
    "\n",
    "# do not change the code below, write your answer code above\n",
    "print(no_subjects)"
   ]
  },
  {
   "cell_type": "markdown",
   "metadata": {},
   "source": [
    "Hint: use `unique()` as you did before, but now you want to know how many values `unique()` outputs. \n",
    "___"
   ]
  },
  {
   "cell_type": "code",
   "execution_count": null,
   "metadata": {},
   "outputs": [],
   "source": [
    "c. In `gammas`, what is the mean, min and max of the `BOLD signal` in each `ROI`? (1 mark) "
   ]
  },
  {
   "cell_type": "code",
   "execution_count": null,
   "metadata": {},
   "outputs": [],
   "source": [
    "summary_BOLD = \n",
    "\n",
    "\n",
    "# do not change the code below, write your answer code above\n",
    "print(summary_BOLD)"
   ]
  },
  {
   "cell_type": "markdown",
   "metadata": {},
   "source": [
    "Hint: Split-apply-combine methods for pandas dataframes include `groupby()` to split the data and `agg()` to apply the aggregated operations (min/max/mean) when there are multiple operations you want to apply. \n",
    "\n",
    "Hint: `agg()` expects all the functions you want to apply to your data to be enclosed in a list. How do you denote a list in Python?\n",
    "\n",
    "_______"
   ]
  },
  {
   "cell_type": "markdown",
   "metadata": {},
   "source": [
    "d. Use seaborn to plot a `boxplot()` of the `BOLD signal` in the different `ROI`. (0.25 marks)"
   ]
  },
  {
   "cell_type": "code",
   "execution_count": null,
   "metadata": {},
   "outputs": [],
   "source": [
    "# create your plot here\n",
    "\n"
   ]
  },
  {
   "cell_type": "markdown",
   "metadata": {},
   "source": [
    "Hint: Did you use the correct nickname we defined for `seaborn` at the start of the notebook?\n",
    "\n",
    "Hint: What is your independant variable (x-axis) and dependant variable (y-axis)?\n",
    "____"
   ]
  },
  {
   "cell_type": "markdown",
   "metadata": {},
   "source": [
    "e. The `gammas` study measures the BOLD signal across multiple timepoints so perhaps we are missing on some important patterns in the data by averaging over all the timepoints. \n",
    "\n",
    "What is the `mean` of the `BOLD signal` when grouping by `ROI` and `timepoint` (i.e. averaged across all patients)? (0.5 marks)"
   ]
  },
  {
   "cell_type": "code",
   "execution_count": null,
   "metadata": {},
   "outputs": [],
   "source": [
    "summary_BOLD_time = \n",
    "\n",
    "\n",
    "# do not change the code below, write your answer code above\n",
    "print(summary_BOLD_time.head())"
   ]
  },
  {
   "cell_type": "markdown",
   "metadata": {},
   "source": [
    "Hint: `groupby()` expects the column names for splitting the dataframe to be enclosed in a list if there is more than one column given.\n",
    "___"
   ]
  },
  {
   "cell_type": "markdown",
   "metadata": {},
   "source": [
    "f. There are many timepoints so it is hard to tell what is going on just by looking. Use `seaborn` to plot a `lineplot()` of the `BOLD signal` (y-axis) across time given by the column `timepoint` (x-axis), where each `ROI` in the dataframe is a differently colored line. (0.25 marks)"
   ]
  },
  {
   "cell_type": "code",
   "execution_count": null,
   "metadata": {},
   "outputs": [],
   "source": [
    "# create your plot here\n",
    "\n"
   ]
  },
  {
   "cell_type": "markdown",
   "metadata": {},
   "source": [
    "Hint: the `hue` parameter is available in most `seaborn` plotting functions to indicate which column to use to group the data by and separate the aggregated values for the plot by a different hue/color.\n",
    "___"
   ]
  },
  {
   "cell_type": "markdown",
   "metadata": {},
   "source": [
    "# Task 2 (3 marks)"
   ]
  },
  {
   "cell_type": "code",
   "execution_count": null,
   "metadata": {},
   "outputs": [],
   "source": [
    "# run this to inspect the exercise dataframe\n",
    "print(exercise.columns)\n",
    "exercise.head(2)"
   ]
  },
  {
   "cell_type": "code",
   "execution_count": null,
   "metadata": {},
   "outputs": [],
   "source": [
    "a. Notice in the `exercise` dataset that there are is an extra column `Unnamed: 0` which is a duplicate of the index (row number). Remove the extra column from `exercise`. (0.5 marks)"
   ]
  },
  {
   "cell_type": "code",
   "execution_count": null,
   "metadata": {},
   "outputs": [],
   "source": [
    "# store the updated dataframe in exercise_clean\n",
    "exercise_clean = \n",
    "\n",
    "\n",
    "# do not change the code below, write your answer code above\n",
    "exercise_clean.head()"
   ]
  },
  {
   "cell_type": "markdown",
   "metadata": {},
   "source": [
    "Hint: The `Unnamed: 0` column is the first column. Is there a way to slice the dataframe keeping all the rows but only from the second column onward? \n",
    "\n",
    "Alternatively, you can make use of the `dataframe.drop()` method (documentation and examples here: https://pandas.pydata.org/pandas-docs/stable/reference/api/pandas.DataFrame.drop.html)\n",
    "___"
   ]
  },
  {
   "cell_type": "code",
   "execution_count": null,
   "metadata": {},
   "outputs": [],
   "source": [
    "b. Using our cleaned dataset `exercise_clean` from task (a), check whether we have the same number of subjects (`id`) for each `diet` group using `nunique()`. (0.5 marks)"
   ]
  },
  {
   "cell_type": "code",
   "execution_count": null,
   "metadata": {},
   "outputs": [],
   "source": [
    "ids_per_diet = \n",
    "\n",
    "\n",
    "# do not change the code below, write your answer code above\n",
    "ids_per_diet"
   ]
  },
  {
   "cell_type": "markdown",
   "metadata": {},
   "source": [
    "Hint: Read the docs for `nunique()` here: https://pandas.pydata.org/pandas-docs/stable/reference/api/pandas.core.groupby.DataFrameGroupBy.nunique.html?highlight=nunique#pandas.core.groupby.DataFrameGroupBy.nunique\n",
    "\n",
    "From the documentation, we see that `nunique()` returns DataFrame with number of distinct observations per group _for each column_. \n",
    "That's fine for the purposes of this question, but if we wanted we could specify/select columns to display. \n",
    "___"
   ]
  },
  {
   "cell_type": "markdown",
   "metadata": {},
   "source": [
    "c. Using `exercise_clean`, what is the average `pulse` for each of the `diet` types only in the observations taken during `rest`? Subset your data first and the final result should be in `pulse_rest` (0.5 marks)"
   ]
  },
  {
   "cell_type": "code",
   "execution_count": null,
   "metadata": {},
   "outputs": [],
   "source": [
    "rest = \n",
    "\n",
    "\n",
    "pulse_rest = \n",
    "\n",
    "\n",
    "# do not change the code below, write your answer code above\n",
    "pulse_rest"
   ]
  },
  {
   "cell_type": "markdown",
   "metadata": {},
   "source": [
    "______\n",
    "From the lesson, we saw that we could plot multiple categorical variables using `catplot()` in `seaborn`. \n",
    "Try running the following plotting code to make sense of the necessary components of `catplot()` function:"
   ]
  },
  {
   "cell_type": "code",
   "execution_count": null,
   "metadata": {},
   "outputs": [],
   "source": [
    "# execute this code cell to see how catplot is used\n",
    "sns.catplot(x='life_expectancy', y='income_group', data=world_data[world_data.year == 2014], kind='box',\n",
    "            col='region', col_wrap=3)\n"
   ]
  },
  {
   "cell_type": "markdown",
   "metadata": {},
   "source": [
    "d. Use the `exercise_clean` dataframe. Use `catplot()` to with `kind='point'` where:\n",
    "- `time` is plotted on the x-axis and `pulse` is plotted on the `y-axis`. \n",
    "- each of the  subplots should have a different colored line for each type of `diet`\n",
    "- along the column (`col`) of the catplot should be the different levels of exercise (i.e. `kind`). \n",
    "\n",
    "The end result should be 1 row of 3 subplots (one for each kind of exercise/activity). (0.5 marks)"
   ]
  },
  {
   "cell_type": "code",
   "execution_count": null,
   "metadata": {},
   "outputs": [],
   "source": [
    "# create your plot here\n",
    "\n"
   ]
  },
  {
   "cell_type": "code",
   "execution_count": null,
   "metadata": {},
   "outputs": [],
   "source": [
    "___\n",
    "You may notice in the plot from (d) that the difference between the pulse of subjects in the `no fat` and `low fat` diet is similar for most time durations and kinds of activity, but there is a more obvious difference between groups in the `running` condition. Let's look more closely.\n",
    "\n",
    "e. Using only observations from the `running` group, plot a `boxplot()` of the `pulse` across subjects in the `no fat` and `low fat` `diet` groups, and for each `time` duration (there are 3 time lengths for each kind of exercise). Start by subsetting the data into a new variable. \n",
    "\n",
    "(0.5 marks for subsetting data, 0.5 marks for the correct plot = 1 mark total)"
   ]
  },
  {
   "cell_type": "code",
   "execution_count": null,
   "metadata": {},
   "outputs": [],
   "source": [
    "# subset your data here\n",
    "running = \n",
    "\n",
    "\n",
    "# do not change the code below, write your answer code above\n",
    "print(running.head())"
   ]
  },
  {
   "cell_type": "code",
   "execution_count": null,
   "metadata": {},
   "outputs": [],
   "source": [
    "# create your plot here\n",
    "\n"
   ]
  },
  {
   "cell_type": "markdown",
   "metadata": {},
   "source": [
    "## Task 3 (2 marks)"
   ]
  },
  {
   "cell_type": "markdown",
   "metadata": {},
   "source": [
    "Going back to the `world_data` gapminder data, let's explore the data even more. "
   ]
  },
  {
   "cell_type": "markdown",
   "metadata": {},
   "source": [
    "a. Create a new column in `world_data` called `education_ratio` that represents the ratio between `years_in_school_women` and `years_in_school_men` (i.e. `years_in_school_men` is the denominator) (0.25 marks)"
   ]
  },
  {
   "cell_type": "code",
   "execution_count": null,
   "metadata": {},
   "outputs": [],
   "source": [
    "# create the new column here\n",
    "\n"
   ]
  },
  {
   "cell_type": "markdown",
   "metadata": {},
   "source": [
    "b. Display the five (5) largest `education_ratio` observations for the `year` `2010` in descending order (using `dataframe.nlargest(number, column_name)` where number is the number of observations to find) (0.25 marks)\n",
    "  - the results should be limited data from the year 2010 (0.25 marks)\n",
    "  - and only include the columns `country`, `year`, and `education_ratio`. (0.25 marks)\n",
    "  - store the final result/subset in the variable `top_education_ratio_2010`\n",
    "\n",
    "The answer should all be in one code cell, it is possible to do in one line but may be easier and more readable to split across more than one line. (0.75 marks total)"
   ]
  },
  {
   "cell_type": "code",
   "execution_count": null,
   "metadata": {},
   "outputs": [],
   "source": [
    "\n",
    "\n",
    "\n",
    "# do not change the code below, write your answer code above\n",
    "top_education_ratio_2010"
   ]
  },
  {
   "cell_type": "markdown",
   "metadata": {},
   "source": [
    "Hint: Start by filtering your data to meet the required criteria. "
   ]
  },
  {
   "cell_type": "markdown",
   "metadata": {},
   "source": [
    "___\n",
    "Let's compare the distribution of life expectancies in 1800 to that of 2000 in the different regions of the world. \n",
    "\n",
    "c. Subset your data to only include rows where the `year` is either 1800 or 2000. (0.25 marks)"
   ]
  },
  {
   "cell_type": "code",
   "execution_count": null,
   "metadata": {},
   "outputs": [],
   "source": [
    "world_1800_2000 = \n",
    "\n",
    "\n",
    "# do not change the code below, write your answer code above\n",
    "world_1800_2000.head()"
   ]
  },
  {
   "cell_type": "markdown",
   "metadata": {},
   "source": [
    "d. Use `catplot()` to plot multiple violin plots of the `world_1800_2000` subset data where:\n",
    "  - `region` is along the x-axis, `life_expectancy` is along the y-axis\n",
    "  - `hue` is determined by `year`\n",
    "  - `split=True` (i.e. each half of the violinplot is data from year 1800 or 2000)\n",
    "\n",
    "(0.75 marks)"
   ]
  },
  {
   "cell_type": "code",
   "execution_count": null,
   "metadata": {},
   "outputs": [],
   "source": [
    "# create your plot here\n",
    "\n"
   ]
  }
 ],
 "metadata": {
  "kernelspec": {
   "display_name": "Python 3",
   "language": "python",
   "name": "python3"
  },
  "language_info": {
   "codemirror_mode": {
    "name": "ipython",
    "version": 3
   },
   "file_extension": ".py",
   "mimetype": "text/x-python",
   "name": "python",
   "nbconvert_exporter": "python",
   "pygments_lexer": "ipython3",
   "version": "3.7.6"
  }
 },
 "nbformat": 4,
 "nbformat_minor": 2
}
