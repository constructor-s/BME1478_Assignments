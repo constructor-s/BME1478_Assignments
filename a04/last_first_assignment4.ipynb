{
 "cells": [
  {
   "cell_type": "markdown",
   "metadata": {},
   "source": [
    "# Assignment 4 - Classes and analyzing data from multiple files \n",
    "\n",
    "## Completing and Submitting the Assignment\n",
    "- Follow the instructions to fill in the code in this jupyter notebook template to complete the assignment. \n",
    "- Places where you need to change or add something are denoted with **# TODO**\n",
    "\n",
    "- Rename your completed version of this notebook so that your last and first name are filled in the file name\n",
    "    - e.g \"Garton_Michael_assignment4.ipynb\"\n",
    "- Export as a Python script .py file with the same filename:\n",
    "    - e.g. \"Garton_Michael_assignment4.py\n",
    "- Upload both .ipynb and .py files to Quercus Assignment 4.\n",
    "\n",
    "## Setup (1 mark)\n",
    "1. Download the .zip of data files from Quercus or here (http://swcarpentry.github.io/python-novice-inflammation/data/python-novice-inflammation-data.zip) and extract the /data/ folder and all of it's contents **into to the same folder as you downloaded this notebook**. **(0.5 marks)**\n",
    "\n",
    "This is required and will make sure all relative paths are the same across student submissions when marking. \n",
    "It should have this structure\n",
    "```\n",
    "main_directory\n",
    "│   last_first_assignment4.ipynb\n",
    "│   last_first_assignment4.py # a copy of the .ipynb exported as a script\n",
    "│\n",
    "│   # you can have other things in this folder, the key thing is data/ is in the same directory as your .ipynb and .py\n",
    "│\n",
    "└───data/\n",
    "│   │   inflammation-01.csv\n",
    "│   │   inflammation-01.csv\n",
    "│   │   ...\n",
    "│   │   inflammation-12.csv\n",
    "│   │   small-01.csv\n",
    "│   │   small-02.csv\n",
    "│   │   small-03.csv\n",
    "│\n",
    "```"
   ]
  },
  {
   "cell_type": "markdown",
   "metadata": {},
   "source": [
    "## 1. Reading in our files and analyzing the data (2.5 marks)\n",
    "\n",
    "We want to read in data from an arthritis study that followed 60 patients in a longitudinal study. This happened 12 times over the course of the study, resulting in 12 different data files. \n",
    "\n",
    "a. Make a list of **only** the .csv file paths that start with `inflammation` using `glob.glob()` and store in a variable named `fnames`. **(0.5 marks)**"
   ]
  },
  {
   "cell_type": "markdown",
   "metadata": {},
   "source": [
    "# import libraries we will use \n",
    "import glob\n",
    "import numpy as np\n",
    "\n",
    "# TODO: fix this line to solve (a) \n",
    "fnames = glob.glob(\"./data/*.csv\")"
   ]
  },
  {
   "cell_type": "markdown",
   "metadata": {},
   "source": [
    "# right now it includes all .csv files including small-xx.csv which we don't want\n",
    "fnames.sort() # this just sorts them alphabetically\n",
    "print(fnames) # confirm only inflammation files listed"
   ]
  },
  {
   "cell_type": "markdown",
   "metadata": {},
   "source": [
    "\n",
    "b. Read in the first file in that list using `np.loadtxt()`, providing a filename and specifiying the `delimiter=','` and store in the variable `dt`. **(0.5 marks)**"
   ]
  },
  {
   "cell_type": "markdown",
   "metadata": {},
   "source": [
    "# TODO: (b)\n",
    "dt = "
   ]
  },
  {
   "cell_type": "markdown",
   "metadata": {},
   "source": [
    "c. Define a function `patient_summary()` that summarizes the data using either \"mean\", \"max\" or \"min\" across patients **(0.5 marks)**\n",
    "  - `patient_summary(data, operation)` should take a numpy array of data from our files, as well as a string (\"mean\", \"max\" or \"min\") describing what operation to use summarize the data over the course of the 40 days across **each patient**.\n",
    "  - note: the shape of the output should be the same size as the number of patients (i.e. 60)\n"
   ]
  },
  {
   "cell_type": "markdown",
   "metadata": {},
   "source": [
    "def patient_summary(data, operation):\n",
    "    # TODO: specify the axis, 0 or 1\n",
    "    ax = \n",
    "    \n",
    "    # TODO: fill in the rest of the if(and or elif/else) statements\n",
    "    if operation == 'mean':\n",
    "        summary_values = data.mean(axis=ax)\n",
    "    \n",
    "    \n",
    "    \n",
    "    \n",
    "    return summary_values\n"
   ]
  },
  {
   "cell_type": "markdown",
   "metadata": {},
   "source": [
    "# test it out on the data file we read in and make sure the size is what we expect\n",
    "dt_min = patient_summary(dt, 'min')\n",
    "print(len(dt_min))"
   ]
  },
  {
   "cell_type": "markdown",
   "metadata": {},
   "source": [
    "Sometimes, data entry results in some errors. We can programmatically screen for certain errors. \n",
    "\n",
    "For example, if a patient has a mean inflammation of 0, this may indicate a healthy individual was misgrouped into this dataset, or some other issue requiring further attention. \n",
    "\n",
    "d. Define a function, `detect_problems()` that can check for issues that may have come from data input errors **(1 mark)**\n",
    "   - `detect_problems(data)` should take a numpy array of the data from one of our experiment files\n",
    "   - we created a helper function `check_zeros(x)` that returns True or False if there are values of zero in an array\n",
    "   - combine the results of `patient_summary()` with our helper function `check_zeros()` to create your new `detect_problems()` function\n",
    "   - return True or False depending whether a problem was found. \n"
   ]
  },
  {
   "cell_type": "markdown",
   "metadata": {},
   "source": [
    "# Run this cell so you can use this premade helper function to do the check \n",
    "# for values in an array that equal 0, DO NOT MODIFY THIS CODE\n",
    "def check_zeros(x):\n",
    "    '''\n",
    "    Given an array, x, check whether any values in x equal 0.\n",
    "    Return True if any values found, else returns False.\n",
    "    '''\n",
    "    # np.where() checks every value in x against the condition (x == 0) \n",
    "    # and returns a tuple of indices where it was True (i.e. x was 0)\n",
    "    flag = np.where(x == 0)[0] \n",
    "    \n",
    "    # We can check if there are any objects in flag (i.e. not empty)\n",
    "    # If not empty, it found at least one zero, so flag is True. And vice-versa.\n",
    "    flag = len(flag) > 0\n",
    "    \n",
    "    return flag"
   ]
  },
  {
   "cell_type": "markdown",
   "metadata": {},
   "source": [
    "It is not necessary to understand all the code inside the helper function, but when using code others have written, you should have a good idea of:\n",
    "1. what goes IN the function (x, an array of numbers) \n",
    "2. what comes OUT of the function (True or False) \n",
    "3. what the output means (True if 0 found in array, False if no 0 found)."
   ]
  },
  {
   "cell_type": "markdown",
   "metadata": {},
   "source": [
    "# example usage of check_zeros\n",
    "values_0 = np.array([12,0,8,9,1])\n",
    "values_1 = np.array([1,1,1,1,1])\n",
    "\n",
    "print(check_zeros(values_0))\n",
    "print(check_zeros(values_1))"
   ]
  },
  {
   "cell_type": "markdown",
   "metadata": {},
   "source": [
    "Write your function here"
   ]
  },
  {
   "cell_type": "markdown",
   "metadata": {},
   "source": [
    "# TODO: Define your function `detect_problems` here \n",
    "# using patient_summary() to get the means and check_zeros() to check for zeros in the means\n",
    "\n",
    "\n",
    "\n",
    "\n"
   ]
  },
  {
   "cell_type": "markdown",
   "metadata": {},
   "source": [
    "## 2. Creating an experiment class (4.5 marks)"
   ]
  },
  {
   "cell_type": "markdown",
   "metadata": {},
   "source": [
    "Let's store our experiments in a class. Each instance will be ONE experiment consisting of measurements from 60 patients over 40 days in the arthritis and inflammation study:\n",
    "- Each instance object comes from one of the 12 sessions i.e. one `Experiment()` = one data file/data collection period.\n",
    "- We can also bundle all the functions we've made above that operate on these data files into one class.\n",
    "\n",
    "Modify the cell below to accomplish the following:\n",
    "\n",
    "a. Create two **class attributes** named **study** to store the string \"arthritis\", and another named **experimenter** to store the string \"Dr. Aria\" **(1 mark)**  \n",
    "b. Define a new method `add_data()` that reads in a .csv and stores the result in the pre-existing .data attribute that was made during `__init__()`. Don't forget the delimiter. **(1 mark)**  \n",
    "c. Define a new method `patient_summary(self, operation)`. It is the same as the one we have already written, BUT it does not take `data` as an argument anymore (but still takes `operation`). The method reads from an instance's state to access what is in `.data`. It should still return summary values per patient for the given operation. **(1 mark)**"
   ]
  },
  {
   "cell_type": "markdown",
   "metadata": {},
   "source": [
    "# TODO: modify this basic class as per the instructions above\n",
    "class Experiment:\n",
    "    def __init__(self,session_no):\n",
    "        self.session_no = session_no\n",
    "        self.data = None\n"
   ]
  },
  {
   "cell_type": "markdown",
   "metadata": {},
   "source": [
    "**Putting it all together.** \n",
    "\n",
    "d. Loop over `fnames` created earlier with all the `inflammation-xx.csv` files and create one instance of the Experiment() class per file. These do not need to be stored beyond inside the loop (e.g. we don't need to save all the Experiments in a list). Only print the filenames where the data was flagged in that experiment. **(1.5 marks)** \n",
    "\n",
    "We have written the code for you, but you need to move them around to make the code functional (including adding indents where necessary).\n",
    "\n",
    "Note: We can assume that the filenames are ordered such that they reflect the order of data collection (e.g. inflammation-01.csv is session # 1).\n",
    "\n"
   ]
  },
  {
   "cell_type": "markdown",
   "metadata": {},
   "source": [
    "# TODO: move these lines around and indent as necessary to make it work again, it *should* find three files.\n",
    "\n",
    "print(f) # print filename\n",
    "exp = Experiment(session_counter) # create an instance of our experiment and give it a session_no\n",
    "session_counter += 1 # increment our counter to the next session number\n",
    "if check_zeros(values): # check whether any 0s in our means\n",
    "session_counter = 1 # initialize counter\n",
    "exp.add_data(f) # read in our data to our experiment\n",
    "for f in fnames: # iterate over data files\n",
    "values = exp.patient_summary(\"mean\") # get our patient means\n"
   ]
  },
  {
   "cell_type": "markdown",
   "metadata": {},
   "source": [
    "## Finishing Up\n",
    "1. Rename this file if you haven't already replacing the words in the filename with your actual last and first name\n",
    "2. Export as a .py and submit BOTH .ipynb and .py files\n",
    "3. Make sure you haven't changed any variable names we specifically asked you to define as such. "
   ]
  },
  {
   "cell_type": "markdown",
   "metadata": {},
   "source": []
  }
 ],
 "metadata": {
  "kernelspec": {
   "display_name": "Python 3",
   "language": "python",
   "name": "python3"
  },
  "language_info": {
   "codemirror_mode": {
    "name": "ipython",
    "version": 3
   },
   "file_extension": ".py",
   "mimetype": "text/x-python",
   "name": "python",
   "nbconvert_exporter": "python",
   "pygments_lexer": "ipython3",
   "version": "3.7.6"
  }
 },
 "nbformat": 4,
 "nbformat_minor": 4
}
