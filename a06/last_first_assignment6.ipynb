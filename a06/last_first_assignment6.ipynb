{
 "cells": [
  {
   "cell_type": "markdown",
   "metadata": {},
   "source": [
    "# Assignment 6: Using Pandas to load and manipulate spreadsheets"
   ]
  },
  {
   "cell_type": "markdown",
   "metadata": {},
   "source": [
    "## Instructions\n",
    "\n",
    "1. Fill in the code where indicated to complete the assignment. Feel free to add more cells than provided to try things out, and check what your variables look like, to see if you got the right results. Just make sure you have done what is asked for that question and that you don't delete any code we provide you with.\n",
    "\n",
    "2. Rename this `last_first_assignment6.ipynb` file replacing `last` and `first` with your name. Make sure all the outputs are there (run each cell) and then export as `last_first_assignment6.py` as well.\n",
    "\n",
    "3. Submit both these files to Quercus.\n",
    "\n",
    "## Questions and Support\n",
    "1. Please ask class content questions on the class GitHub page: \n",
    "https://github.com/BME1478H/Winter2020class/ Expect a processing time of 1d for us to respond. As such, we cannot guarantee we can address your questions and work through all the troubleshooting in time if you ask them the night before or the day of the assignment deadline. Please plan accordingly. \n",
    "2. Attend Wednesday Tutorial, 9-11am at UC140. We dedicate the 1st hour to anyone with questions primarily about the assignment coming up, as well as general content questions. We follow this up with 1H for going through the current week's lecture material.\n",
    "3. If there are sensitive questions, submit to BME1478h.ta.team@gmail.com, "
   ]
  },
  {
   "cell_type": "markdown",
   "metadata": {},
   "source": [
    "## Part 1: Manipulating and subsetting dataframes (2.5 marks)"
   ]
  },
  {
   "cell_type": "markdown",
   "metadata": {},
   "source": [
    "Here we are setting up our notebook to import Pandas and load the dataset used in the lecture material. **Run this cell to get started.**"
   ]
  },
  {
   "cell_type": "markdown",
   "metadata": {},
   "source": [
    "import pandas as pd\n",
    "import numpy as np\n",
    "url = 'https://raw.githubusercontent.com/BME1478H/Winter2020class/master/data/world-data-gapminder.csv'\n",
    "world_data = pd.read_csv(url)"
   ]
  },
  {
   "cell_type": "markdown",
   "metadata": {},
   "source": [
    "a) Subset/select the following columns from the `world_data` dataframe:\n",
    "- `country`\n",
    "- `life_expectancy`\n",
    "- `co2_per_capita`\n",
    "\n",
    "Store the result in a variable called `world_subset`. \n",
    "\n",
    "Write the code in the cell below. (0.5 mark)"
   ]
  },
  {
   "cell_type": "markdown",
   "metadata": {},
   "source": []
  },
  {
   "cell_type": "markdown",
   "metadata": {},
   "source": [
    "b) Slice `world_data` such that we get the first 12 rows, and the last three columns using `dataframe.iloc[]` notation. Store the result in a variable called `world_slice`. \n",
    "\n",
    "___\n",
    "**Hint:** Slicing using indices takes the indices starting from the \"start\" slice value, UP TO but NOT INCLUDING the \"end\" slice value. For example:\n",
    "\n",
    "```\n",
    "world_data.iloc[5:10] \n",
    "```\n",
    "This will print  5, 6, 7, 8, and 9 (but not 10).\n",
    "\n",
    "**Hint:** This is one way to slice last `4` items:\n",
    "```\n",
    "lst = [0,1,2,3,4,5,6]\n",
    "lst[-4:] \n",
    "\n",
    "Output: [3,4,5,6]\n",
    "```\n",
    "The -4 means the 4th last item, and leaving it blank after the : means go to the end!\n",
    "___\n",
    "\n",
    "Write the code in the cell below. (0.5 marks)"
   ]
  },
  {
   "cell_type": "markdown",
   "metadata": {},
   "source": []
  },
  {
   "cell_type": "markdown",
   "metadata": {},
   "source": [
    "c) In what situations would you use `world_data.iloc[]` vs. `world_data.loc[]`? What is the difference in syntax?\n",
    "\n",
    "Write out your response in the following variable inside the quotes `'''` we defined for you (triple quotes  allow us to write on more than one line).\n",
    "1-2 sentences max (0.5 marks)"
   ]
  },
  {
   "cell_type": "markdown",
   "metadata": {},
   "source": [
    "answer = '''\n",
    "Your answer goes here:\n",
    "\n",
    "\n",
    "\n",
    "'''\n",
    "print(answer)"
   ]
  },
  {
   "cell_type": "markdown",
   "metadata": {},
   "source": [
    "d) From `world_data`, select the row labelled 100, from the column label `year`. Use the correct notation to subset and store the value inside the variable `year_100_value`.\n",
    "\n",
    "Write the code in the cell below. (0.5 marks). "
   ]
  },
  {
   "cell_type": "markdown",
   "metadata": {},
   "source": []
  },
  {
   "cell_type": "markdown",
   "metadata": {},
   "source": [
    "e) From `world_data`, select rows labeled 5 to 10, and columns 'country' to 'income_group' using slicing.\n",
    "\n",
    "Store in a variable called `world_slice_2`\n",
    "\n",
    "Write the code in the cell below. (0.5 marks)."
   ]
  },
  {
   "cell_type": "markdown",
   "metadata": {},
   "source": []
  },
  {
   "cell_type": "markdown",
   "metadata": {},
   "source": [
    "# Part 2: Filtering observations and creating new columns (4.5 marks)"
   ]
  },
  {
   "cell_type": "markdown",
   "metadata": {},
   "source": [
    "In the material, we saw we could filter the data based on the criteria we  define. For example:\n",
    "```\n",
    "above_83_bool = world_data['life_expectancy'] > 83\n",
    "```\n",
    "This would result in a boolean array stored inside `above_83_bool` where every row shows either `True` or `False` depending whether the `life_expectancy` value in that row was greater than 83. We can use these boolean arrays to further subset our data.\n",
    "___"
   ]
  },
  {
   "cell_type": "markdown",
   "metadata": {},
   "source": [
    "a) Create a boolean array from `world_data` where we are checking whether the `year` column is equal to `2014`, and store in a variable called `year_2014`.\n",
    "\n",
    "Write the code in the cell below. (1 mark)."
   ]
  },
  {
   "cell_type": "markdown",
   "metadata": {},
   "source": []
  },
  {
   "cell_type": "markdown",
   "metadata": {},
   "source": [
    "b) Use the boolean array `year_2014` you just created to subset the `world_data` dataframe and store in a variable `year_2014_subset`. \n",
    "\n",
    "The resulting array should be of size (179 rows, 14 columns). \n",
    "___\n",
    "**Hint:** We can subset a dataframe with our boolean expression using similar notation to row indexing of dataframes. From lecture:\n",
    "```\n",
    "world_data[world_data['life_expectancy'] > 83]\n",
    "```\n",
    "___\n",
    "\n",
    "Write the code in the cell below. (1 mark)."
   ]
  },
  {
   "cell_type": "markdown",
   "metadata": {},
   "source": []
  },
  {
   "cell_type": "markdown",
   "metadata": {},
   "source": [
    "c) Use the boolean arrays `criterion_1` and `criterion_2` we provide below to subset `world_data` such that we get rows that match BOTH these criteria.\n",
    "\n",
    "Store in a variable called `both_criterion_subset`.\n",
    "___\n",
    "**Hint:** When we first learned about booleans, we learned we can use `and` and `or` operators to evaluate whether two booleans were both true (and) and either are True (or). \n",
    "```\n",
    "x = (1 > 0) # True, 1 is greater than 0\n",
    "y = (5 > 10) # False, 5 is not greater than 10\n",
    "z = (1 == 1) # True, 1 is equal to 1\n",
    "\n",
    "x and z # this evaluates to True, x and z BOTH True using \"and\"\n",
    "x and y # False because only one value, x is True, Y is False using \"and\"\n",
    "y or z # True because only one value, x, needs to be True using \"or\" \n",
    "x or z # True, both are True, but only one needs to be True anyway\n",
    "```\n",
    "But for Dataframes we need to use the `&` operator instead of `and` to match all criteria or the `|` operator instead of `or` to match _any_ of our criteria.\n",
    "```\n",
    "df[(df['column0'] > 1) & (df['column4'] == 'dog')]\n",
    "```\n",
    "This subsets our imaginary `df` dataframe by rows where `column0` is greater than 1 AND where `column4` is equal to `dog`. \n",
    "___\n",
    "\n",
    "Write your code below our code in the same cell (1 mark)."
   ]
  },
  {
   "cell_type": "markdown",
   "metadata": {},
   "source": [
    "criterion_1 = world_data['income'] > 50000\n",
    "criterion_2 = world_data['life_expectancy'] > 80\n",
    "\n",
    "# write your code below\n",
    "\n"
   ]
  },
  {
   "cell_type": "markdown",
   "metadata": {},
   "source": [
    "d) Let's say we wanted to extract some measures of health (life expectancy and child mortality) in high income countries in a specific year. We would start by subsetting the data. \n",
    "\n",
    "For this question, subset `world_data` by the following boolean arrays so we match ALL the criteria, and also selecting the given column labels (remember, when we subset rows AND columns using labels, there is a specific notation to use). \n",
    "\n",
    "Store the result in a variable called `high_income_health`. \n",
    "\n",
    "Write the code below our premade code in the same cell (0.5 marks). "
   ]
  },
  {
   "cell_type": "markdown",
   "metadata": {},
   "source": [
    "criterion_1 = world_data['income'] > 50000\n",
    "criterion_2 = world_data['year'] == 2013\n",
    "column_subset = ['country', 'life_expectancy', 'child_mortality']\n",
    "\n",
    "# write your code here\n",
    "\n"
   ]
  },
  {
   "cell_type": "markdown",
   "metadata": {},
   "source": [
    "e) Subset `world_data` such that only rows where the `pop_density` is greater than `1000` OR where the `co2_per_capita` value is greater than `20`, but also only selecting the columns `['country', 'year', 'pop_density', 'co2_per_capita']`. The resulting shape should be (447,4). \n",
    "\n",
    "Don't forget to wrap each boolean expression with `(` `)`.\n",
    "\n",
    "Store in variable called `density_or_co2`.\n",
    "\n",
    "Write the code below (0.5 marks)."
   ]
  },
  {
   "cell_type": "markdown",
   "metadata": {},
   "source": []
  },
  {
   "cell_type": "markdown",
   "metadata": {},
   "source": [
    "f) Create a new column in `world_data` called `pop_millions` that divides the `population` column by `1000000` to get a more readable value for the population in terms of millions of people.\n",
    "___\n",
    "**Hint**: This is an example of creating a new column called `sizes_sum` where we want to add the values in two columns:\n",
    "```\n",
    "df['sizes_sum'] = df['size_1'] + df['size_2']\n",
    "```\n",
    "___\n",
    "\n",
    "Write your code below. (0.5 marks). "
   ]
  },
  {
   "cell_type": "markdown",
   "metadata": {},
   "source": []
  },
  {
   "cell_type": "markdown",
   "metadata": {},
   "source": [
    "# Part 3: Split-apply-combine using groupby (1 mark)\n",
    "\n",
    "(summary from  lecture)\n",
    "\n",
    "pandas facilitates the split-apply-combine workflow through the use of `groupby()` to split data, and summary/aggregation functions such as `mean()`, which collapses each group into a single-row summary of that group.\n",
    "\n",
    "For example:\n",
    "\n",
    "`world_data.groupby('region')['population'].sum()`\n",
    "\n",
    "This groups `world_data` by the `region` column (i.e. 'Asia', 'Europe', 'Africa', 'Americas', 'Oceania') and calculates the `sum` of the `population` column for each of these `regions`."
   ]
  },
  {
   "cell_type": "markdown",
   "metadata": {},
   "source": [
    "___\n",
    "a) Subset `world_data` to include only rows where the `region` is \"Europe\" and store in a variable `europe_subset`. (0.25 marks)\n",
    "\n",
    "b) Group `europe_subset` by `sub_region` and find the mean `pop_density` for each of the European sub regions, store in `european_pop_density`. (0.5 marks)\n",
    "\n",
    "c) Normalize (i.e. divide all values) in `european_pop_density` using the value from the subregion `Northern Europe`. As a result, `Northern Europe` will have a value of 1 (all values relative to that of `Northern Europe`.  (0.25 marks)\n",
    "\n",
    "Write the code all the questions below."
   ]
  },
  {
   "cell_type": "markdown",
   "metadata": {},
   "source": []
  }
 ],
 "metadata": {
  "kernelspec": {
   "display_name": "Python 3",
   "language": "python",
   "name": "python3"
  },
  "language_info": {
   "codemirror_mode": {
    "name": "ipython",
    "version": 3
   },
   "file_extension": ".py",
   "mimetype": "text/x-python",
   "name": "python",
   "nbconvert_exporter": "python",
   "pygments_lexer": "ipython3",
   "version": "3.7.6"
  }
 },
 "nbformat": 4,
 "nbformat_minor": 4
}
