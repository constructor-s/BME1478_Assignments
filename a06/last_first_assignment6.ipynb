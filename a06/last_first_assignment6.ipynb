{
 "cells": [
  {
   "cell_type": "markdown",
   "metadata": {},
   "source": [
    "# Assignment 6: Using Pandas to load and manipulate spreadsheets"
   ]
  },
  {
   "cell_type": "markdown",
   "metadata": {},
   "source": [
    "## Instructions\n",
    "\n",
    "1. Fill in the code where indicated to complete the assignment. Feel free to add more cells than provided to try things out, and check what your variables look like, to see if you got the right results. Just make sure you have done what is asked for that question and that you don't delete any code we provide you with.\n",
    "\n",
    "2. Rename this `last_first_assignment6.ipynb` file replacing `last` and `first` with your name. Make sure all the outputs are there (run each cell) and then export as `last_first_assignment6.py` as well.\n",
    "\n",
    "3. Submit both these files to Quercus.\n",
    "\n",
    "## Questions and Support\n",
    "1. Please ask class content questions on the class GitHub page: \n",
    "https://github.com/BME1478H/Winter2020class/ Expect a processing time of 1d for us to respond. As such, we cannot guarantee we can address your questions and work through all the troubleshooting in time if you ask them the night before or the day of the assignment deadline. Please plan accordingly. \n",
    "2. Attend Wednesday Tutorial, 9-11am at UC140. We dedicate the 1st hour to anyone with questions primarily about the assignment coming up, as well as general content questions. We follow this up with 1H for going through the current week's lecture material.\n",
    "3. If there are sensitive questions, submit to BME1478h.ta.team@gmail.com, "
   ]
  },
  {
   "cell_type": "markdown",
   "metadata": {},
   "source": [
    "## Part 1: Manipulating and subsetting dataframes (2.5 marks)"
   ]
  },
  {
   "cell_type": "markdown",
   "metadata": {},
   "source": [
    "Here we are setting up our notebook to import Pandas and load the dataset used in the lecture material. **Run this cell to get started.**"
   ]
  },
  {
   "cell_type": "code",
   "execution_count": 1,
   "metadata": {},
   "outputs": [],
   "source": [
    "import pandas as pd\n",
    "import numpy as np\n",
    "url = 'https://raw.githubusercontent.com/BME1478H/Winter2020class/master/data/world-data-gapminder.csv'\n",
    "world_data = pd.read_csv(url)"
   ]
  },
  {
   "cell_type": "markdown",
   "metadata": {},
   "source": [
    "a) Subset/select the following columns from the `world_data` dataframe:\n",
    "- `country`\n",
    "- `life_expectancy`\n",
    "- `co2_per_capita`\n",
    "\n",
    "Store the result in a variable called `world_subset`. \n",
    "\n",
    "Write the code in the cell below. (0.5 mark)"
   ]
  },
  {
   "cell_type": "code",
   "execution_count": 2,
   "metadata": {},
   "outputs": [
    {
     "output_type": "execute_result",
     "data": {
      "text/plain": "           country  life_expectancy  co2_per_capita\n0      Afghanistan             28.2             NaN\n1      Afghanistan             28.2             NaN\n2      Afghanistan             28.2             NaN\n3      Afghanistan             28.2             NaN\n4      Afghanistan             28.2             NaN\n...            ...              ...             ...\n39196     Zimbabwe             57.0            0.78\n39197     Zimbabwe             58.3             NaN\n39198     Zimbabwe             59.3             NaN\n39199     Zimbabwe             59.8             NaN\n39200     Zimbabwe             60.2             NaN\n\n[39201 rows x 3 columns]",
      "text/html": "<div>\n<style scoped>\n    .dataframe tbody tr th:only-of-type {\n        vertical-align: middle;\n    }\n\n    .dataframe tbody tr th {\n        vertical-align: top;\n    }\n\n    .dataframe thead th {\n        text-align: right;\n    }\n</style>\n<table border=\"1\" class=\"dataframe\">\n  <thead>\n    <tr style=\"text-align: right;\">\n      <th></th>\n      <th>country</th>\n      <th>life_expectancy</th>\n      <th>co2_per_capita</th>\n    </tr>\n  </thead>\n  <tbody>\n    <tr>\n      <td>0</td>\n      <td>Afghanistan</td>\n      <td>28.2</td>\n      <td>NaN</td>\n    </tr>\n    <tr>\n      <td>1</td>\n      <td>Afghanistan</td>\n      <td>28.2</td>\n      <td>NaN</td>\n    </tr>\n    <tr>\n      <td>2</td>\n      <td>Afghanistan</td>\n      <td>28.2</td>\n      <td>NaN</td>\n    </tr>\n    <tr>\n      <td>3</td>\n      <td>Afghanistan</td>\n      <td>28.2</td>\n      <td>NaN</td>\n    </tr>\n    <tr>\n      <td>4</td>\n      <td>Afghanistan</td>\n      <td>28.2</td>\n      <td>NaN</td>\n    </tr>\n    <tr>\n      <td>...</td>\n      <td>...</td>\n      <td>...</td>\n      <td>...</td>\n    </tr>\n    <tr>\n      <td>39196</td>\n      <td>Zimbabwe</td>\n      <td>57.0</td>\n      <td>0.78</td>\n    </tr>\n    <tr>\n      <td>39197</td>\n      <td>Zimbabwe</td>\n      <td>58.3</td>\n      <td>NaN</td>\n    </tr>\n    <tr>\n      <td>39198</td>\n      <td>Zimbabwe</td>\n      <td>59.3</td>\n      <td>NaN</td>\n    </tr>\n    <tr>\n      <td>39199</td>\n      <td>Zimbabwe</td>\n      <td>59.8</td>\n      <td>NaN</td>\n    </tr>\n    <tr>\n      <td>39200</td>\n      <td>Zimbabwe</td>\n      <td>60.2</td>\n      <td>NaN</td>\n    </tr>\n  </tbody>\n</table>\n<p>39201 rows × 3 columns</p>\n</div>"
     },
     "metadata": {},
     "execution_count": 2
    }
   ],
   "source": [
    "#%% Subset the requested columns into a new DataFrame\n",
    "world_subset = world_data[[\"country\", \"life_expectancy\", \"co2_per_capita\"]]\n",
    "world_subset"
   ]
  },
  {
   "cell_type": "markdown",
   "metadata": {},
   "source": [
    "b) Slice `world_data` such that we get the first 12 rows, and the last three columns using `dataframe.iloc[]` notation. Store the result in a variable called `world_slice`. \n",
    "\n",
    "___\n",
    "**Hint:** Slicing using indices takes the indices starting from the \"start\" slice value, UP TO but NOT INCLUDING the \"end\" slice value. For example:\n",
    "\n",
    "```\n",
    "world_data.iloc[5:10] \n",
    "```\n",
    "This will print  5, 6, 7, 8, and 9 (but not 10).\n",
    "\n",
    "**Hint:** This is one way to slice last `4` items:\n",
    "```\n",
    "lst = [0,1,2,3,4,5,6]\n",
    "lst[-4:] \n",
    "\n",
    "Output: [3,4,5,6]\n",
    "```\n",
    "The -4 means the 4th last item, and leaving it blank after the : means go to the end!\n",
    "___\n",
    "\n",
    "Write the code in the cell below. (0.5 marks)"
   ]
  },
  {
   "cell_type": "code",
   "execution_count": 3,
   "metadata": {},
   "outputs": [
    {
     "output_type": "execute_result",
     "data": {
      "text/plain": "    co2_per_capita  years_in_school_men  years_in_school_women\n0              NaN                  NaN                    NaN\n1              NaN                  NaN                    NaN\n2              NaN                  NaN                    NaN\n3              NaN                  NaN                    NaN\n4              NaN                  NaN                    NaN\n5              NaN                  NaN                    NaN\n6              NaN                  NaN                    NaN\n7              NaN                  NaN                    NaN\n8              NaN                  NaN                    NaN\n9              NaN                  NaN                    NaN\n10             NaN                  NaN                    NaN\n11             NaN                  NaN                    NaN",
      "text/html": "<div>\n<style scoped>\n    .dataframe tbody tr th:only-of-type {\n        vertical-align: middle;\n    }\n\n    .dataframe tbody tr th {\n        vertical-align: top;\n    }\n\n    .dataframe thead th {\n        text-align: right;\n    }\n</style>\n<table border=\"1\" class=\"dataframe\">\n  <thead>\n    <tr style=\"text-align: right;\">\n      <th></th>\n      <th>co2_per_capita</th>\n      <th>years_in_school_men</th>\n      <th>years_in_school_women</th>\n    </tr>\n  </thead>\n  <tbody>\n    <tr>\n      <td>0</td>\n      <td>NaN</td>\n      <td>NaN</td>\n      <td>NaN</td>\n    </tr>\n    <tr>\n      <td>1</td>\n      <td>NaN</td>\n      <td>NaN</td>\n      <td>NaN</td>\n    </tr>\n    <tr>\n      <td>2</td>\n      <td>NaN</td>\n      <td>NaN</td>\n      <td>NaN</td>\n    </tr>\n    <tr>\n      <td>3</td>\n      <td>NaN</td>\n      <td>NaN</td>\n      <td>NaN</td>\n    </tr>\n    <tr>\n      <td>4</td>\n      <td>NaN</td>\n      <td>NaN</td>\n      <td>NaN</td>\n    </tr>\n    <tr>\n      <td>5</td>\n      <td>NaN</td>\n      <td>NaN</td>\n      <td>NaN</td>\n    </tr>\n    <tr>\n      <td>6</td>\n      <td>NaN</td>\n      <td>NaN</td>\n      <td>NaN</td>\n    </tr>\n    <tr>\n      <td>7</td>\n      <td>NaN</td>\n      <td>NaN</td>\n      <td>NaN</td>\n    </tr>\n    <tr>\n      <td>8</td>\n      <td>NaN</td>\n      <td>NaN</td>\n      <td>NaN</td>\n    </tr>\n    <tr>\n      <td>9</td>\n      <td>NaN</td>\n      <td>NaN</td>\n      <td>NaN</td>\n    </tr>\n    <tr>\n      <td>10</td>\n      <td>NaN</td>\n      <td>NaN</td>\n      <td>NaN</td>\n    </tr>\n    <tr>\n      <td>11</td>\n      <td>NaN</td>\n      <td>NaN</td>\n      <td>NaN</td>\n    </tr>\n  </tbody>\n</table>\n</div>"
     },
     "metadata": {},
     "execution_count": 3
    }
   ],
   "source": [
    "#%% Slice world_data\n",
    "world_slice = world_data.iloc[:12, -3:]\n",
    "world_slice"
   ]
  },
  {
   "cell_type": "markdown",
   "metadata": {},
   "source": [
    "c) In what situations would you use `world_data.iloc[]` vs. `world_data.loc[]`? What is the difference in syntax?\n",
    "\n",
    "Write out your response in the following variable inside the quotes `'''` we defined for you (triple quotes  allow us to write on more than one line).\n",
    "1-2 sentences max (0.5 marks)"
   ]
  },
  {
   "cell_type": "code",
   "execution_count": 4,
   "metadata": {
    "tags": []
   },
   "outputs": [
    {
     "output_type": "stream",
     "name": "stdout",
     "text": "\nYour answer goes here:\niloc[] commonly receives arguments of integers, integer slices (\":\" syntax), or a boolean array as mask.\nloc[] commonly receives arguments of labels (which are typically strings), label slices, or a boolean array as mask; if integers are used as arguments to loc[], they are trated as labels (such as index for each row), not indices of the numeric position of the value.\n\n\n"
    }
   ],
   "source": [
    "answer = '''\n",
    "Your answer goes here:\n",
    "iloc[] commonly receives arguments of integers, integer slices (\":\" syntax), or a boolean array as mask.\n",
    "loc[] commonly receives arguments of labels (which are typically strings), label slices, or a boolean array as mask; if integers are used as arguments to loc[], they are trated as labels (such as index for each row), not indices of the numeric position of the value.\n",
    "\n",
    "'''\n",
    "print(answer)"
   ]
  },
  {
   "cell_type": "markdown",
   "metadata": {},
   "source": [
    "d) From `world_data`, select the row labelled 100, from the column label `year`. Use the correct notation to subset and store the value inside the variable `year_100_value`.\n",
    "\n",
    "Write the code in the cell below. (0.5 marks). "
   ]
  },
  {
   "cell_type": "code",
   "execution_count": 5,
   "metadata": {},
   "outputs": [
    {
     "output_type": "execute_result",
     "data": {
      "text/plain": "1900"
     },
     "metadata": {},
     "execution_count": 5
    }
   ],
   "source": [
    "year_100_value = world_data.loc[100, \"year\"]\n",
    "year_100_value"
   ]
  },
  {
   "cell_type": "markdown",
   "metadata": {},
   "source": [
    "e) From `world_data`, select rows labeled 5 to 10, and columns 'country' to 'income_group' using slicing.\n",
    "\n",
    "Store in a variable called `world_slice_2`\n",
    "\n",
    "Write the code in the cell below. (0.5 marks)."
   ]
  },
  {
   "cell_type": "code",
   "execution_count": 6,
   "metadata": {},
   "outputs": [
    {
     "output_type": "execute_result",
     "data": {
      "text/plain": "        country  year  population region     sub_region income_group\n5   Afghanistan  1805     3280000   Asia  Southern Asia          Low\n6   Afghanistan  1806     3280000   Asia  Southern Asia          Low\n7   Afghanistan  1807     3280000   Asia  Southern Asia          Low\n8   Afghanistan  1808     3280000   Asia  Southern Asia          Low\n9   Afghanistan  1809     3280000   Asia  Southern Asia          Low\n10  Afghanistan  1810     3280000   Asia  Southern Asia          Low",
      "text/html": "<div>\n<style scoped>\n    .dataframe tbody tr th:only-of-type {\n        vertical-align: middle;\n    }\n\n    .dataframe tbody tr th {\n        vertical-align: top;\n    }\n\n    .dataframe thead th {\n        text-align: right;\n    }\n</style>\n<table border=\"1\" class=\"dataframe\">\n  <thead>\n    <tr style=\"text-align: right;\">\n      <th></th>\n      <th>country</th>\n      <th>year</th>\n      <th>population</th>\n      <th>region</th>\n      <th>sub_region</th>\n      <th>income_group</th>\n    </tr>\n  </thead>\n  <tbody>\n    <tr>\n      <td>5</td>\n      <td>Afghanistan</td>\n      <td>1805</td>\n      <td>3280000</td>\n      <td>Asia</td>\n      <td>Southern Asia</td>\n      <td>Low</td>\n    </tr>\n    <tr>\n      <td>6</td>\n      <td>Afghanistan</td>\n      <td>1806</td>\n      <td>3280000</td>\n      <td>Asia</td>\n      <td>Southern Asia</td>\n      <td>Low</td>\n    </tr>\n    <tr>\n      <td>7</td>\n      <td>Afghanistan</td>\n      <td>1807</td>\n      <td>3280000</td>\n      <td>Asia</td>\n      <td>Southern Asia</td>\n      <td>Low</td>\n    </tr>\n    <tr>\n      <td>8</td>\n      <td>Afghanistan</td>\n      <td>1808</td>\n      <td>3280000</td>\n      <td>Asia</td>\n      <td>Southern Asia</td>\n      <td>Low</td>\n    </tr>\n    <tr>\n      <td>9</td>\n      <td>Afghanistan</td>\n      <td>1809</td>\n      <td>3280000</td>\n      <td>Asia</td>\n      <td>Southern Asia</td>\n      <td>Low</td>\n    </tr>\n    <tr>\n      <td>10</td>\n      <td>Afghanistan</td>\n      <td>1810</td>\n      <td>3280000</td>\n      <td>Asia</td>\n      <td>Southern Asia</td>\n      <td>Low</td>\n    </tr>\n  </tbody>\n</table>\n</div>"
     },
     "metadata": {},
     "execution_count": 6
    }
   ],
   "source": [
    "world_slice_2 = world_data.loc[5:10, \"country\":\"income_group\"]\n",
    "world_slice_2"
   ]
  },
  {
   "cell_type": "markdown",
   "metadata": {},
   "source": [
    "# Part 2: Filtering observations and creating new columns (4.5 marks)"
   ]
  },
  {
   "cell_type": "markdown",
   "metadata": {},
   "source": [
    "In the material, we saw we could filter the data based on the criteria we  define. For example:\n",
    "```\n",
    "above_83_bool = world_data['life_expectancy'] > 83\n",
    "```\n",
    "This would result in a boolean array stored inside `above_83_bool` where every row shows either `True` or `False` depending whether the `life_expectancy` value in that row was greater than 83. We can use these boolean arrays to further subset our data.\n",
    "___"
   ]
  },
  {
   "cell_type": "markdown",
   "metadata": {},
   "source": [
    "a) Create a boolean array from `world_data` where we are checking whether the `year` column is equal to `2014`, and store in a variable called `year_2014`.\n",
    "\n",
    "Write the code in the cell below. (1 mark)."
   ]
  },
  {
   "cell_type": "code",
   "execution_count": 7,
   "metadata": {},
   "outputs": [
    {
     "output_type": "execute_result",
     "data": {
      "text/plain": "0        False\n1        False\n2        False\n3        False\n4        False\n         ...  \n39196     True\n39197    False\n39198    False\n39199    False\n39200    False\nName: year, Length: 39201, dtype: bool"
     },
     "metadata": {},
     "execution_count": 7
    }
   ],
   "source": [
    "year_2014 = world_data[\"year\"] == 2014\n",
    "year_2014"
   ]
  },
  {
   "cell_type": "markdown",
   "metadata": {},
   "source": [
    "b) Use the boolean array `year_2014` you just created to subset the `world_data` dataframe and store in a variable `year_2014_subset`. \n",
    "\n",
    "The resulting array should be of size (179 rows, 14 columns). \n",
    "___\n",
    "**Hint:** We can subset a dataframe with our boolean expression using similar notation to row indexing of dataframes. From lecture:\n",
    "```\n",
    "world_data[world_data['life_expectancy'] > 83]\n",
    "```\n",
    "___\n",
    "\n",
    "Write the code in the cell below. (1 mark)."
   ]
  },
  {
   "cell_type": "code",
   "execution_count": 8,
   "metadata": {},
   "outputs": [
    {
     "output_type": "execute_result",
     "data": {
      "text/plain": "                   country  year  population    region  \\\n214            Afghanistan  2014    32800000      Asia   \n433                Albania  2014     2920000    Europe   \n652                Algeria  2014    39100000    Africa   \n871                 Angola  2014    26900000    Africa   \n1090   Antigua and Barbuda  2014       98900  Americas   \n...                    ...   ...         ...       ...   \n38320            Venezuela  2014    30700000  Americas   \n38539              Vietnam  2014    92500000      Asia   \n38758                Yemen  2014    26200000      Asia   \n38977               Zambia  2014    15600000    Africa   \n39196             Zimbabwe  2014    15400000    Africa   \n\n                            sub_region  income_group  life_expectancy  income  \\\n214                      Southern Asia           Low             57.8    1780   \n433                    Southern Europe  Upper middle             77.4   10700   \n652                    Northern Africa  Upper middle             77.1   13500   \n871                 Sub-Saharan Africa  Lower middle             63.3    6260   \n1090   Latin America and the Caribbean          High             77.1   19500   \n...                                ...           ...              ...     ...   \n38320  Latin America and the Caribbean  Upper middle             75.5   16700   \n38539               South-eastern Asia  Lower middle             74.1    5370   \n38758                     Western Asia           Low             68.4    3770   \n38977               Sub-Saharan Africa  Lower middle             57.0    3630   \n39196               Sub-Saharan Africa           Low             57.0    1910   \n\n       children_per_woman  child_mortality  pop_density  co2_per_capita  \\\n214                  4.98             76.1         50.2           0.299   \n433                  1.71             14.4        107.0           1.960   \n652                  2.89             25.6         16.4           3.720   \n871                  5.84             91.2         21.6           1.290   \n1090                 2.08              9.0        225.0           5.380   \n...                   ...              ...          ...             ...   \n38320                2.37             16.8         34.8           6.030   \n38539                1.96             22.3        298.0           1.800   \n38758                4.22             55.3         49.7           0.865   \n38977                5.10             69.6         21.0           0.288   \n39196                3.90             64.3         39.8           0.780   \n\n       years_in_school_men  years_in_school_women  \n214                   4.04                   0.95  \n433                  11.80                  12.10  \n652                   8.38                   7.58  \n871                   7.11                   5.18  \n1090                 13.10                  14.30  \n...                    ...                    ...  \n38320                10.40                  11.30  \n38539                 9.56                   9.49  \n38758                 7.66                   2.26  \n38977                 8.98                   7.60  \n39196                10.90                  10.00  \n\n[179 rows x 14 columns]",
      "text/html": "<div>\n<style scoped>\n    .dataframe tbody tr th:only-of-type {\n        vertical-align: middle;\n    }\n\n    .dataframe tbody tr th {\n        vertical-align: top;\n    }\n\n    .dataframe thead th {\n        text-align: right;\n    }\n</style>\n<table border=\"1\" class=\"dataframe\">\n  <thead>\n    <tr style=\"text-align: right;\">\n      <th></th>\n      <th>country</th>\n      <th>year</th>\n      <th>population</th>\n      <th>region</th>\n      <th>sub_region</th>\n      <th>income_group</th>\n      <th>life_expectancy</th>\n      <th>income</th>\n      <th>children_per_woman</th>\n      <th>child_mortality</th>\n      <th>pop_density</th>\n      <th>co2_per_capita</th>\n      <th>years_in_school_men</th>\n      <th>years_in_school_women</th>\n    </tr>\n  </thead>\n  <tbody>\n    <tr>\n      <td>214</td>\n      <td>Afghanistan</td>\n      <td>2014</td>\n      <td>32800000</td>\n      <td>Asia</td>\n      <td>Southern Asia</td>\n      <td>Low</td>\n      <td>57.8</td>\n      <td>1780</td>\n      <td>4.98</td>\n      <td>76.1</td>\n      <td>50.2</td>\n      <td>0.299</td>\n      <td>4.04</td>\n      <td>0.95</td>\n    </tr>\n    <tr>\n      <td>433</td>\n      <td>Albania</td>\n      <td>2014</td>\n      <td>2920000</td>\n      <td>Europe</td>\n      <td>Southern Europe</td>\n      <td>Upper middle</td>\n      <td>77.4</td>\n      <td>10700</td>\n      <td>1.71</td>\n      <td>14.4</td>\n      <td>107.0</td>\n      <td>1.960</td>\n      <td>11.80</td>\n      <td>12.10</td>\n    </tr>\n    <tr>\n      <td>652</td>\n      <td>Algeria</td>\n      <td>2014</td>\n      <td>39100000</td>\n      <td>Africa</td>\n      <td>Northern Africa</td>\n      <td>Upper middle</td>\n      <td>77.1</td>\n      <td>13500</td>\n      <td>2.89</td>\n      <td>25.6</td>\n      <td>16.4</td>\n      <td>3.720</td>\n      <td>8.38</td>\n      <td>7.58</td>\n    </tr>\n    <tr>\n      <td>871</td>\n      <td>Angola</td>\n      <td>2014</td>\n      <td>26900000</td>\n      <td>Africa</td>\n      <td>Sub-Saharan Africa</td>\n      <td>Lower middle</td>\n      <td>63.3</td>\n      <td>6260</td>\n      <td>5.84</td>\n      <td>91.2</td>\n      <td>21.6</td>\n      <td>1.290</td>\n      <td>7.11</td>\n      <td>5.18</td>\n    </tr>\n    <tr>\n      <td>1090</td>\n      <td>Antigua and Barbuda</td>\n      <td>2014</td>\n      <td>98900</td>\n      <td>Americas</td>\n      <td>Latin America and the Caribbean</td>\n      <td>High</td>\n      <td>77.1</td>\n      <td>19500</td>\n      <td>2.08</td>\n      <td>9.0</td>\n      <td>225.0</td>\n      <td>5.380</td>\n      <td>13.10</td>\n      <td>14.30</td>\n    </tr>\n    <tr>\n      <td>...</td>\n      <td>...</td>\n      <td>...</td>\n      <td>...</td>\n      <td>...</td>\n      <td>...</td>\n      <td>...</td>\n      <td>...</td>\n      <td>...</td>\n      <td>...</td>\n      <td>...</td>\n      <td>...</td>\n      <td>...</td>\n      <td>...</td>\n      <td>...</td>\n    </tr>\n    <tr>\n      <td>38320</td>\n      <td>Venezuela</td>\n      <td>2014</td>\n      <td>30700000</td>\n      <td>Americas</td>\n      <td>Latin America and the Caribbean</td>\n      <td>Upper middle</td>\n      <td>75.5</td>\n      <td>16700</td>\n      <td>2.37</td>\n      <td>16.8</td>\n      <td>34.8</td>\n      <td>6.030</td>\n      <td>10.40</td>\n      <td>11.30</td>\n    </tr>\n    <tr>\n      <td>38539</td>\n      <td>Vietnam</td>\n      <td>2014</td>\n      <td>92500000</td>\n      <td>Asia</td>\n      <td>South-eastern Asia</td>\n      <td>Lower middle</td>\n      <td>74.1</td>\n      <td>5370</td>\n      <td>1.96</td>\n      <td>22.3</td>\n      <td>298.0</td>\n      <td>1.800</td>\n      <td>9.56</td>\n      <td>9.49</td>\n    </tr>\n    <tr>\n      <td>38758</td>\n      <td>Yemen</td>\n      <td>2014</td>\n      <td>26200000</td>\n      <td>Asia</td>\n      <td>Western Asia</td>\n      <td>Low</td>\n      <td>68.4</td>\n      <td>3770</td>\n      <td>4.22</td>\n      <td>55.3</td>\n      <td>49.7</td>\n      <td>0.865</td>\n      <td>7.66</td>\n      <td>2.26</td>\n    </tr>\n    <tr>\n      <td>38977</td>\n      <td>Zambia</td>\n      <td>2014</td>\n      <td>15600000</td>\n      <td>Africa</td>\n      <td>Sub-Saharan Africa</td>\n      <td>Lower middle</td>\n      <td>57.0</td>\n      <td>3630</td>\n      <td>5.10</td>\n      <td>69.6</td>\n      <td>21.0</td>\n      <td>0.288</td>\n      <td>8.98</td>\n      <td>7.60</td>\n    </tr>\n    <tr>\n      <td>39196</td>\n      <td>Zimbabwe</td>\n      <td>2014</td>\n      <td>15400000</td>\n      <td>Africa</td>\n      <td>Sub-Saharan Africa</td>\n      <td>Low</td>\n      <td>57.0</td>\n      <td>1910</td>\n      <td>3.90</td>\n      <td>64.3</td>\n      <td>39.8</td>\n      <td>0.780</td>\n      <td>10.90</td>\n      <td>10.00</td>\n    </tr>\n  </tbody>\n</table>\n<p>179 rows × 14 columns</p>\n</div>"
     },
     "metadata": {},
     "execution_count": 8
    }
   ],
   "source": [
    "year_2014_subset = world_data.loc[year_2014]\n",
    "year_2014_subset"
   ]
  },
  {
   "cell_type": "markdown",
   "metadata": {},
   "source": [
    "c) Use the boolean arrays `criterion_1` and `criterion_2` we provide below to subset `world_data` such that we get rows that match BOTH these criteria.\n",
    "\n",
    "Store in a variable called `both_criterion_subset`.\n",
    "___\n",
    "**Hint:** When we first learned about booleans, we learned we can use `and` and `or` operators to evaluate whether two booleans were both true (and) and either are True (or). \n",
    "```\n",
    "x = (1 > 0) # True, 1 is greater than 0\n",
    "y = (5 > 10) # False, 5 is not greater than 10\n",
    "z = (1 == 1) # True, 1 is equal to 1\n",
    "\n",
    "x and z # this evaluates to True, x and z BOTH True using \"and\"\n",
    "x and y # False because only one value, x is True, Y is False using \"and\"\n",
    "y or z # True because only one value, x, needs to be True using \"or\" \n",
    "x or z # True, both are True, but only one needs to be True anyway\n",
    "```\n",
    "But for Dataframes we need to use the `&` operator instead of `and` to match all criteria or the `|` operator instead of `or` to match _any_ of our criteria.\n",
    "```\n",
    "df[(df['column0'] > 1) & (df['column4'] == 'dog')]\n",
    "```\n",
    "This subsets our imaginary `df` dataframe by rows where `column0` is greater than 1 AND where `column4` is equal to `dog`. \n",
    "___\n",
    "\n",
    "Write your code below our code in the same cell (1 mark)."
   ]
  },
  {
   "cell_type": "code",
   "execution_count": 9,
   "metadata": {},
   "outputs": [
    {
     "output_type": "execute_result",
     "data": {
      "text/plain": "           country  year  population  region       sub_region income_group  \\\n16640      Ireland  2015     4700000  Europe  Northern Europe         High   \n16641      Ireland  2016     4730000  Europe  Northern Europe         High   \n16642      Ireland  2017     4760000  Europe  Northern Europe         High   \n16643      Ireland  2018     4800000  Europe  Northern Europe         High   \n20573   Luxembourg  2006      466000  Europe   Western Europe         High   \n...            ...   ...         ...     ...              ...          ...   \n33721  Switzerland  2014     8230000  Europe   Western Europe         High   \n33722  Switzerland  2015     8320000  Europe   Western Europe         High   \n33723  Switzerland  2016     8400000  Europe   Western Europe         High   \n33724  Switzerland  2017     8480000  Europe   Western Europe         High   \n33725  Switzerland  2018     8540000  Europe   Western Europe         High   \n\n       life_expectancy  income  children_per_woman  child_mortality  \\\n16640             81.1   60900                1.99             3.70   \n16641             81.2   62800                1.99             3.60   \n16642             81.3   64300                1.98             3.05   \n16643             81.5   65600                1.98             2.79   \n20573             80.3   91700                1.63             3.30   \n...                ...     ...                 ...              ...   \n33721             83.0   56700                1.54             4.20   \n33722             83.1   56500                1.54             4.10   \n33723             83.1   56600                1.55             4.10   \n33724             83.3   56900                1.55             3.86   \n33725             83.5   57100                1.55             3.75   \n\n       pop_density  co2_per_capita  years_in_school_men  years_in_school_women  \n16640         68.2             NaN                 13.8                   14.5  \n16641         68.6             NaN                  NaN                    NaN  \n16642         69.1             NaN                  NaN                    NaN  \n16643         69.7             NaN                  NaN                    NaN  \n20573        180.0           24.40                 12.6                   12.8  \n...            ...             ...                  ...                    ...  \n33721        208.0            4.29                 14.5                   14.3  \n33722        211.0             NaN                 14.6                   14.4  \n33723        213.0             NaN                  NaN                    NaN  \n33724        214.0             NaN                  NaN                    NaN  \n33725        216.0             NaN                  NaN                    NaN  \n\n[73 rows x 14 columns]",
      "text/html": "<div>\n<style scoped>\n    .dataframe tbody tr th:only-of-type {\n        vertical-align: middle;\n    }\n\n    .dataframe tbody tr th {\n        vertical-align: top;\n    }\n\n    .dataframe thead th {\n        text-align: right;\n    }\n</style>\n<table border=\"1\" class=\"dataframe\">\n  <thead>\n    <tr style=\"text-align: right;\">\n      <th></th>\n      <th>country</th>\n      <th>year</th>\n      <th>population</th>\n      <th>region</th>\n      <th>sub_region</th>\n      <th>income_group</th>\n      <th>life_expectancy</th>\n      <th>income</th>\n      <th>children_per_woman</th>\n      <th>child_mortality</th>\n      <th>pop_density</th>\n      <th>co2_per_capita</th>\n      <th>years_in_school_men</th>\n      <th>years_in_school_women</th>\n    </tr>\n  </thead>\n  <tbody>\n    <tr>\n      <td>16640</td>\n      <td>Ireland</td>\n      <td>2015</td>\n      <td>4700000</td>\n      <td>Europe</td>\n      <td>Northern Europe</td>\n      <td>High</td>\n      <td>81.1</td>\n      <td>60900</td>\n      <td>1.99</td>\n      <td>3.70</td>\n      <td>68.2</td>\n      <td>NaN</td>\n      <td>13.8</td>\n      <td>14.5</td>\n    </tr>\n    <tr>\n      <td>16641</td>\n      <td>Ireland</td>\n      <td>2016</td>\n      <td>4730000</td>\n      <td>Europe</td>\n      <td>Northern Europe</td>\n      <td>High</td>\n      <td>81.2</td>\n      <td>62800</td>\n      <td>1.99</td>\n      <td>3.60</td>\n      <td>68.6</td>\n      <td>NaN</td>\n      <td>NaN</td>\n      <td>NaN</td>\n    </tr>\n    <tr>\n      <td>16642</td>\n      <td>Ireland</td>\n      <td>2017</td>\n      <td>4760000</td>\n      <td>Europe</td>\n      <td>Northern Europe</td>\n      <td>High</td>\n      <td>81.3</td>\n      <td>64300</td>\n      <td>1.98</td>\n      <td>3.05</td>\n      <td>69.1</td>\n      <td>NaN</td>\n      <td>NaN</td>\n      <td>NaN</td>\n    </tr>\n    <tr>\n      <td>16643</td>\n      <td>Ireland</td>\n      <td>2018</td>\n      <td>4800000</td>\n      <td>Europe</td>\n      <td>Northern Europe</td>\n      <td>High</td>\n      <td>81.5</td>\n      <td>65600</td>\n      <td>1.98</td>\n      <td>2.79</td>\n      <td>69.7</td>\n      <td>NaN</td>\n      <td>NaN</td>\n      <td>NaN</td>\n    </tr>\n    <tr>\n      <td>20573</td>\n      <td>Luxembourg</td>\n      <td>2006</td>\n      <td>466000</td>\n      <td>Europe</td>\n      <td>Western Europe</td>\n      <td>High</td>\n      <td>80.3</td>\n      <td>91700</td>\n      <td>1.63</td>\n      <td>3.30</td>\n      <td>180.0</td>\n      <td>24.40</td>\n      <td>12.6</td>\n      <td>12.8</td>\n    </tr>\n    <tr>\n      <td>...</td>\n      <td>...</td>\n      <td>...</td>\n      <td>...</td>\n      <td>...</td>\n      <td>...</td>\n      <td>...</td>\n      <td>...</td>\n      <td>...</td>\n      <td>...</td>\n      <td>...</td>\n      <td>...</td>\n      <td>...</td>\n      <td>...</td>\n      <td>...</td>\n    </tr>\n    <tr>\n      <td>33721</td>\n      <td>Switzerland</td>\n      <td>2014</td>\n      <td>8230000</td>\n      <td>Europe</td>\n      <td>Western Europe</td>\n      <td>High</td>\n      <td>83.0</td>\n      <td>56700</td>\n      <td>1.54</td>\n      <td>4.20</td>\n      <td>208.0</td>\n      <td>4.29</td>\n      <td>14.5</td>\n      <td>14.3</td>\n    </tr>\n    <tr>\n      <td>33722</td>\n      <td>Switzerland</td>\n      <td>2015</td>\n      <td>8320000</td>\n      <td>Europe</td>\n      <td>Western Europe</td>\n      <td>High</td>\n      <td>83.1</td>\n      <td>56500</td>\n      <td>1.54</td>\n      <td>4.10</td>\n      <td>211.0</td>\n      <td>NaN</td>\n      <td>14.6</td>\n      <td>14.4</td>\n    </tr>\n    <tr>\n      <td>33723</td>\n      <td>Switzerland</td>\n      <td>2016</td>\n      <td>8400000</td>\n      <td>Europe</td>\n      <td>Western Europe</td>\n      <td>High</td>\n      <td>83.1</td>\n      <td>56600</td>\n      <td>1.55</td>\n      <td>4.10</td>\n      <td>213.0</td>\n      <td>NaN</td>\n      <td>NaN</td>\n      <td>NaN</td>\n    </tr>\n    <tr>\n      <td>33724</td>\n      <td>Switzerland</td>\n      <td>2017</td>\n      <td>8480000</td>\n      <td>Europe</td>\n      <td>Western Europe</td>\n      <td>High</td>\n      <td>83.3</td>\n      <td>56900</td>\n      <td>1.55</td>\n      <td>3.86</td>\n      <td>214.0</td>\n      <td>NaN</td>\n      <td>NaN</td>\n      <td>NaN</td>\n    </tr>\n    <tr>\n      <td>33725</td>\n      <td>Switzerland</td>\n      <td>2018</td>\n      <td>8540000</td>\n      <td>Europe</td>\n      <td>Western Europe</td>\n      <td>High</td>\n      <td>83.5</td>\n      <td>57100</td>\n      <td>1.55</td>\n      <td>3.75</td>\n      <td>216.0</td>\n      <td>NaN</td>\n      <td>NaN</td>\n      <td>NaN</td>\n    </tr>\n  </tbody>\n</table>\n<p>73 rows × 14 columns</p>\n</div>"
     },
     "metadata": {},
     "execution_count": 9
    }
   ],
   "source": [
    "criterion_1 = world_data['income'] > 50000\n",
    "criterion_2 = world_data['life_expectancy'] > 80\n",
    "\n",
    "# write your code below\n",
    "both_criterion_subset = world_data.loc[criterion_1 & criterion_2]\n",
    "both_criterion_subset"
   ]
  },
  {
   "cell_type": "markdown",
   "metadata": {},
   "source": [
    "d) Let's say we wanted to extract some measures of health (life expectancy and child mortality) in high income countries in a specific year. We would start by subsetting the data. \n",
    "\n",
    "For this question, subset `world_data` by the following boolean arrays so we match ALL the criteria, and also selecting the given column labels (remember, when we subset rows AND columns using labels, there is a specific notation to use). \n",
    "\n",
    "Store the result in a variable called `high_income_health`. \n",
    "\n",
    "Write the code below our premade code in the same cell (0.5 marks). "
   ]
  },
  {
   "cell_type": "code",
   "execution_count": 10,
   "metadata": {},
   "outputs": [
    {
     "output_type": "execute_result",
     "data": {
      "text/plain": "                    country  life_expectancy  child_mortality\n18609                Kuwait             79.7              9.5\n20580            Luxembourg             81.9              2.6\n26055                Norway             81.7              2.9\n28464                 Qatar             80.5              8.7\n30654             Singapore             83.2              2.7\n33720           Switzerland             82.7              4.3\n36786  United Arab Emirates             76.4              8.0\n37437         United States             78.9              6.9\n37438         United States             78.9              6.9",
      "text/html": "<div>\n<style scoped>\n    .dataframe tbody tr th:only-of-type {\n        vertical-align: middle;\n    }\n\n    .dataframe tbody tr th {\n        vertical-align: top;\n    }\n\n    .dataframe thead th {\n        text-align: right;\n    }\n</style>\n<table border=\"1\" class=\"dataframe\">\n  <thead>\n    <tr style=\"text-align: right;\">\n      <th></th>\n      <th>country</th>\n      <th>life_expectancy</th>\n      <th>child_mortality</th>\n    </tr>\n  </thead>\n  <tbody>\n    <tr>\n      <td>18609</td>\n      <td>Kuwait</td>\n      <td>79.7</td>\n      <td>9.5</td>\n    </tr>\n    <tr>\n      <td>20580</td>\n      <td>Luxembourg</td>\n      <td>81.9</td>\n      <td>2.6</td>\n    </tr>\n    <tr>\n      <td>26055</td>\n      <td>Norway</td>\n      <td>81.7</td>\n      <td>2.9</td>\n    </tr>\n    <tr>\n      <td>28464</td>\n      <td>Qatar</td>\n      <td>80.5</td>\n      <td>8.7</td>\n    </tr>\n    <tr>\n      <td>30654</td>\n      <td>Singapore</td>\n      <td>83.2</td>\n      <td>2.7</td>\n    </tr>\n    <tr>\n      <td>33720</td>\n      <td>Switzerland</td>\n      <td>82.7</td>\n      <td>4.3</td>\n    </tr>\n    <tr>\n      <td>36786</td>\n      <td>United Arab Emirates</td>\n      <td>76.4</td>\n      <td>8.0</td>\n    </tr>\n    <tr>\n      <td>37437</td>\n      <td>United States</td>\n      <td>78.9</td>\n      <td>6.9</td>\n    </tr>\n    <tr>\n      <td>37438</td>\n      <td>United States</td>\n      <td>78.9</td>\n      <td>6.9</td>\n    </tr>\n  </tbody>\n</table>\n</div>"
     },
     "metadata": {},
     "execution_count": 10
    }
   ],
   "source": [
    "criterion_1 = world_data['income'] > 50000\n",
    "criterion_2 = world_data['year'] == 2013\n",
    "column_subset = ['country', 'life_expectancy', 'child_mortality']\n",
    "\n",
    "# write your code here\n",
    "high_income_health = world_data.loc[criterion_1 & criterion_2, column_subset]\n",
    "high_income_health"
   ]
  },
  {
   "cell_type": "markdown",
   "metadata": {},
   "source": [
    "e) Subset `world_data` such that only rows where the `pop_density` is greater than `1000` OR where the `co2_per_capita` value is greater than `20`, but also only selecting the columns `['country', 'year', 'pop_density', 'co2_per_capita']`. The resulting shape should be (447,4). \n",
    "\n",
    "Don't forget to wrap each boolean expression with `(` `)`.\n",
    "\n",
    "Store in variable called `density_or_co2`.\n",
    "\n",
    "Write the code below (0.5 marks)."
   ]
  },
  {
   "cell_type": "code",
   "execution_count": 11,
   "metadata": {},
   "outputs": [
    {
     "output_type": "execute_result",
     "data": {
      "text/plain": "             country  year  pop_density  co2_per_capita\n2361         Bahamas  1971         17.4            38.7\n2362         Bahamas  1972         17.8            36.5\n2363         Bahamas  1973         18.1            43.4\n2364         Bahamas  1974         18.5            39.9\n2365         Bahamas  1975         18.9            43.7\n...              ...   ...          ...             ...\n37370  United States  1979         24.9            21.5\n37371  United States  1980         25.1            20.6\n37372  United States  1980         25.1            20.6\n37411  United States  2000         30.8            20.2\n37412  United States  2000         30.8            20.2\n\n[447 rows x 4 columns]",
      "text/html": "<div>\n<style scoped>\n    .dataframe tbody tr th:only-of-type {\n        vertical-align: middle;\n    }\n\n    .dataframe tbody tr th {\n        vertical-align: top;\n    }\n\n    .dataframe thead th {\n        text-align: right;\n    }\n</style>\n<table border=\"1\" class=\"dataframe\">\n  <thead>\n    <tr style=\"text-align: right;\">\n      <th></th>\n      <th>country</th>\n      <th>year</th>\n      <th>pop_density</th>\n      <th>co2_per_capita</th>\n    </tr>\n  </thead>\n  <tbody>\n    <tr>\n      <td>2361</td>\n      <td>Bahamas</td>\n      <td>1971</td>\n      <td>17.4</td>\n      <td>38.7</td>\n    </tr>\n    <tr>\n      <td>2362</td>\n      <td>Bahamas</td>\n      <td>1972</td>\n      <td>17.8</td>\n      <td>36.5</td>\n    </tr>\n    <tr>\n      <td>2363</td>\n      <td>Bahamas</td>\n      <td>1973</td>\n      <td>18.1</td>\n      <td>43.4</td>\n    </tr>\n    <tr>\n      <td>2364</td>\n      <td>Bahamas</td>\n      <td>1974</td>\n      <td>18.5</td>\n      <td>39.9</td>\n    </tr>\n    <tr>\n      <td>2365</td>\n      <td>Bahamas</td>\n      <td>1975</td>\n      <td>18.9</td>\n      <td>43.7</td>\n    </tr>\n    <tr>\n      <td>...</td>\n      <td>...</td>\n      <td>...</td>\n      <td>...</td>\n      <td>...</td>\n    </tr>\n    <tr>\n      <td>37370</td>\n      <td>United States</td>\n      <td>1979</td>\n      <td>24.9</td>\n      <td>21.5</td>\n    </tr>\n    <tr>\n      <td>37371</td>\n      <td>United States</td>\n      <td>1980</td>\n      <td>25.1</td>\n      <td>20.6</td>\n    </tr>\n    <tr>\n      <td>37372</td>\n      <td>United States</td>\n      <td>1980</td>\n      <td>25.1</td>\n      <td>20.6</td>\n    </tr>\n    <tr>\n      <td>37411</td>\n      <td>United States</td>\n      <td>2000</td>\n      <td>30.8</td>\n      <td>20.2</td>\n    </tr>\n    <tr>\n      <td>37412</td>\n      <td>United States</td>\n      <td>2000</td>\n      <td>30.8</td>\n      <td>20.2</td>\n    </tr>\n  </tbody>\n</table>\n<p>447 rows × 4 columns</p>\n</div>"
     },
     "metadata": {},
     "execution_count": 11
    }
   ],
   "source": [
    "density_or_co2 = world_data.loc[\n",
    "    (world_data[\"pop_density\"] > 1000) | # or\n",
    "    (world_data[\"co2_per_capita\"] > 20), \n",
    "    ['country', 'year', 'pop_density', 'co2_per_capita']\n",
    "]\n",
    "density_or_co2"
   ]
  },
  {
   "cell_type": "markdown",
   "metadata": {},
   "source": [
    "f) Create a new column in `world_data` called `pop_millions` that divides the `population` column by `1000000` to get a more readable value for the population in terms of millions of people.\n",
    "___\n",
    "**Hint**: This is an example of creating a new column called `sizes_sum` where we want to add the values in two columns:\n",
    "```\n",
    "df['sizes_sum'] = df['size_1'] + df['size_2']\n",
    "```\n",
    "___\n",
    "\n",
    "Write your code below. (0.5 marks). "
   ]
  },
  {
   "cell_type": "code",
   "execution_count": 12,
   "metadata": {},
   "outputs": [
    {
     "output_type": "execute_result",
     "data": {
      "text/plain": "           country  year  population  region          sub_region income_group  \\\n0      Afghanistan  1800     3280000    Asia       Southern Asia          Low   \n1      Afghanistan  1801     3280000    Asia       Southern Asia          Low   \n2      Afghanistan  1802     3280000    Asia       Southern Asia          Low   \n3      Afghanistan  1803     3280000    Asia       Southern Asia          Low   \n4      Afghanistan  1804     3280000    Asia       Southern Asia          Low   \n...            ...   ...         ...     ...                 ...          ...   \n39196     Zimbabwe  2014    15400000  Africa  Sub-Saharan Africa          Low   \n39197     Zimbabwe  2015    15800000  Africa  Sub-Saharan Africa          Low   \n39198     Zimbabwe  2016    16200000  Africa  Sub-Saharan Africa          Low   \n39199     Zimbabwe  2017    16500000  Africa  Sub-Saharan Africa          Low   \n39200     Zimbabwe  2018    16900000  Africa  Sub-Saharan Africa          Low   \n\n       life_expectancy  income  children_per_woman  child_mortality  \\\n0                 28.2     603                7.00            469.0   \n1                 28.2     603                7.00            469.0   \n2                 28.2     603                7.00            469.0   \n3                 28.2     603                7.00            469.0   \n4                 28.2     603                7.00            469.0   \n...                ...     ...                 ...              ...   \n39196             57.0    1910                3.90             64.3   \n39197             58.3    1890                3.84             59.9   \n39198             59.3    1860                3.76             56.4   \n39199             59.8    1910                3.68             56.8   \n39200             60.2    1950                3.61             55.5   \n\n       pop_density  co2_per_capita  years_in_school_men  \\\n0              NaN             NaN                  NaN   \n1              NaN             NaN                  NaN   \n2              NaN             NaN                  NaN   \n3              NaN             NaN                  NaN   \n4              NaN             NaN                  NaN   \n...            ...             ...                  ...   \n39196         39.8            0.78                 10.9   \n39197         40.8             NaN                 11.1   \n39198         41.7             NaN                  NaN   \n39199         42.7             NaN                  NaN   \n39200         43.7             NaN                  NaN   \n\n       years_in_school_women  pop_millions  \n0                        NaN          3.28  \n1                        NaN          3.28  \n2                        NaN          3.28  \n3                        NaN          3.28  \n4                        NaN          3.28  \n...                      ...           ...  \n39196                   10.0         15.40  \n39197                   10.2         15.80  \n39198                    NaN         16.20  \n39199                    NaN         16.50  \n39200                    NaN         16.90  \n\n[39201 rows x 15 columns]",
      "text/html": "<div>\n<style scoped>\n    .dataframe tbody tr th:only-of-type {\n        vertical-align: middle;\n    }\n\n    .dataframe tbody tr th {\n        vertical-align: top;\n    }\n\n    .dataframe thead th {\n        text-align: right;\n    }\n</style>\n<table border=\"1\" class=\"dataframe\">\n  <thead>\n    <tr style=\"text-align: right;\">\n      <th></th>\n      <th>country</th>\n      <th>year</th>\n      <th>population</th>\n      <th>region</th>\n      <th>sub_region</th>\n      <th>income_group</th>\n      <th>life_expectancy</th>\n      <th>income</th>\n      <th>children_per_woman</th>\n      <th>child_mortality</th>\n      <th>pop_density</th>\n      <th>co2_per_capita</th>\n      <th>years_in_school_men</th>\n      <th>years_in_school_women</th>\n      <th>pop_millions</th>\n    </tr>\n  </thead>\n  <tbody>\n    <tr>\n      <td>0</td>\n      <td>Afghanistan</td>\n      <td>1800</td>\n      <td>3280000</td>\n      <td>Asia</td>\n      <td>Southern Asia</td>\n      <td>Low</td>\n      <td>28.2</td>\n      <td>603</td>\n      <td>7.00</td>\n      <td>469.0</td>\n      <td>NaN</td>\n      <td>NaN</td>\n      <td>NaN</td>\n      <td>NaN</td>\n      <td>3.28</td>\n    </tr>\n    <tr>\n      <td>1</td>\n      <td>Afghanistan</td>\n      <td>1801</td>\n      <td>3280000</td>\n      <td>Asia</td>\n      <td>Southern Asia</td>\n      <td>Low</td>\n      <td>28.2</td>\n      <td>603</td>\n      <td>7.00</td>\n      <td>469.0</td>\n      <td>NaN</td>\n      <td>NaN</td>\n      <td>NaN</td>\n      <td>NaN</td>\n      <td>3.28</td>\n    </tr>\n    <tr>\n      <td>2</td>\n      <td>Afghanistan</td>\n      <td>1802</td>\n      <td>3280000</td>\n      <td>Asia</td>\n      <td>Southern Asia</td>\n      <td>Low</td>\n      <td>28.2</td>\n      <td>603</td>\n      <td>7.00</td>\n      <td>469.0</td>\n      <td>NaN</td>\n      <td>NaN</td>\n      <td>NaN</td>\n      <td>NaN</td>\n      <td>3.28</td>\n    </tr>\n    <tr>\n      <td>3</td>\n      <td>Afghanistan</td>\n      <td>1803</td>\n      <td>3280000</td>\n      <td>Asia</td>\n      <td>Southern Asia</td>\n      <td>Low</td>\n      <td>28.2</td>\n      <td>603</td>\n      <td>7.00</td>\n      <td>469.0</td>\n      <td>NaN</td>\n      <td>NaN</td>\n      <td>NaN</td>\n      <td>NaN</td>\n      <td>3.28</td>\n    </tr>\n    <tr>\n      <td>4</td>\n      <td>Afghanistan</td>\n      <td>1804</td>\n      <td>3280000</td>\n      <td>Asia</td>\n      <td>Southern Asia</td>\n      <td>Low</td>\n      <td>28.2</td>\n      <td>603</td>\n      <td>7.00</td>\n      <td>469.0</td>\n      <td>NaN</td>\n      <td>NaN</td>\n      <td>NaN</td>\n      <td>NaN</td>\n      <td>3.28</td>\n    </tr>\n    <tr>\n      <td>...</td>\n      <td>...</td>\n      <td>...</td>\n      <td>...</td>\n      <td>...</td>\n      <td>...</td>\n      <td>...</td>\n      <td>...</td>\n      <td>...</td>\n      <td>...</td>\n      <td>...</td>\n      <td>...</td>\n      <td>...</td>\n      <td>...</td>\n      <td>...</td>\n      <td>...</td>\n    </tr>\n    <tr>\n      <td>39196</td>\n      <td>Zimbabwe</td>\n      <td>2014</td>\n      <td>15400000</td>\n      <td>Africa</td>\n      <td>Sub-Saharan Africa</td>\n      <td>Low</td>\n      <td>57.0</td>\n      <td>1910</td>\n      <td>3.90</td>\n      <td>64.3</td>\n      <td>39.8</td>\n      <td>0.78</td>\n      <td>10.9</td>\n      <td>10.0</td>\n      <td>15.40</td>\n    </tr>\n    <tr>\n      <td>39197</td>\n      <td>Zimbabwe</td>\n      <td>2015</td>\n      <td>15800000</td>\n      <td>Africa</td>\n      <td>Sub-Saharan Africa</td>\n      <td>Low</td>\n      <td>58.3</td>\n      <td>1890</td>\n      <td>3.84</td>\n      <td>59.9</td>\n      <td>40.8</td>\n      <td>NaN</td>\n      <td>11.1</td>\n      <td>10.2</td>\n      <td>15.80</td>\n    </tr>\n    <tr>\n      <td>39198</td>\n      <td>Zimbabwe</td>\n      <td>2016</td>\n      <td>16200000</td>\n      <td>Africa</td>\n      <td>Sub-Saharan Africa</td>\n      <td>Low</td>\n      <td>59.3</td>\n      <td>1860</td>\n      <td>3.76</td>\n      <td>56.4</td>\n      <td>41.7</td>\n      <td>NaN</td>\n      <td>NaN</td>\n      <td>NaN</td>\n      <td>16.20</td>\n    </tr>\n    <tr>\n      <td>39199</td>\n      <td>Zimbabwe</td>\n      <td>2017</td>\n      <td>16500000</td>\n      <td>Africa</td>\n      <td>Sub-Saharan Africa</td>\n      <td>Low</td>\n      <td>59.8</td>\n      <td>1910</td>\n      <td>3.68</td>\n      <td>56.8</td>\n      <td>42.7</td>\n      <td>NaN</td>\n      <td>NaN</td>\n      <td>NaN</td>\n      <td>16.50</td>\n    </tr>\n    <tr>\n      <td>39200</td>\n      <td>Zimbabwe</td>\n      <td>2018</td>\n      <td>16900000</td>\n      <td>Africa</td>\n      <td>Sub-Saharan Africa</td>\n      <td>Low</td>\n      <td>60.2</td>\n      <td>1950</td>\n      <td>3.61</td>\n      <td>55.5</td>\n      <td>43.7</td>\n      <td>NaN</td>\n      <td>NaN</td>\n      <td>NaN</td>\n      <td>16.90</td>\n    </tr>\n  </tbody>\n</table>\n<p>39201 rows × 15 columns</p>\n</div>"
     },
     "metadata": {},
     "execution_count": 12
    }
   ],
   "source": [
    "world_data[\"pop_millions\"] = world_data[\"population\"] / 1000000.0\n",
    "world_data"
   ]
  },
  {
   "cell_type": "markdown",
   "metadata": {},
   "source": [
    "# Part 3: Split-apply-combine using groupby (1 mark)\n",
    "\n",
    "(summary from  lecture)\n",
    "\n",
    "pandas facilitates the split-apply-combine workflow through the use of `groupby()` to split data, and summary/aggregation functions such as `mean()`, which collapses each group into a single-row summary of that group.\n",
    "\n",
    "For example:\n",
    "\n",
    "`world_data.groupby('region')['population'].sum()`\n",
    "\n",
    "This groups `world_data` by the `region` column (i.e. 'Asia', 'Europe', 'Africa', 'Americas', 'Oceania') and calculates the `sum` of the `population` column for each of these `regions`."
   ]
  },
  {
   "cell_type": "markdown",
   "metadata": {},
   "source": [
    "___\n",
    "a) Subset `world_data` to include only rows where the `region` is \"Europe\" and store in a variable `europe_subset`. (0.25 marks)\n",
    "\n",
    "b) Group `europe_subset` by `sub_region` and find the mean `pop_density` for each of the European sub regions, store in `european_pop_density`. (0.5 marks)\n",
    "\n",
    "c) Normalize (i.e. divide all values) in `european_pop_density` using the value from the subregion `Northern Europe`. As a result, `Northern Europe` will have a value of 1 (all values relative to that of `Northern Europe`.  (0.25 marks)\n",
    "\n",
    "Write the code all the questions below."
   ]
  },
  {
   "cell_type": "code",
   "execution_count": 13,
   "metadata": {},
   "outputs": [
    {
     "output_type": "execute_result",
     "data": {
      "text/plain": "sub_region\nEastern Europe     1.508951\nNorthern Europe    1.000000\nSouthern Europe    3.043071\nWestern Europe     3.667489\nName: pop_density, dtype: float64"
     },
     "metadata": {},
     "execution_count": 13
    }
   ],
   "source": [
    "# a)\n",
    "europe_subset = world_data[world_data[\"region\"] == \"Europe\"]\n",
    "# b)\n",
    "european_pop_density = europe_subset.groupby(\"sub_region\")[\"pop_density\"].mean()\n",
    "# c)\n",
    "european_pop_density /= european_pop_density.loc[\"Northern Europe\"]\n",
    "european_pop_density"
   ]
  },
  {
   "cell_type": "code",
   "execution_count": null,
   "metadata": {},
   "outputs": [],
   "source": []
  }
 ],
 "metadata": {
  "kernelspec": {
   "display_name": "Python 3",
   "language": "python",
   "name": "python3"
  },
  "language_info": {
   "codemirror_mode": {
    "name": "ipython",
    "version": 3
   },
   "file_extension": ".py",
   "mimetype": "text/x-python",
   "name": "python",
   "nbconvert_exporter": "python",
   "pygments_lexer": "ipython3",
   "version": "3.7.4-final"
  }
 },
 "nbformat": 4,
 "nbformat_minor": 4
}