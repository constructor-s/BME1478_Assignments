{
 "cells": [
  {
   "cell_type": "markdown",
   "metadata": {},
   "source": [
    "# Assignment 9 - Tidy Data + Stastistical Tests"
   ]
  },
  {
   "cell_type": "markdown",
   "metadata": {},
   "source": [
    "## Instructions\n",
    "\n",
    "1. Download `last_first_assignment9.ipynb` and fill in the code where indicated to complete the assignment. Feel free to add more cells than provided to try things out, and check what your variables look like, to see if you got the right results. Just make sure you have done what is asked for that question and that you don't delete any code we provide you with.\n",
    "\n",
    "2. Rename this `last_first_assignment9.ipynb` file replacing `last` and `first` with your name. Make sure all the outputs are there (run each cell) and export the .py file.\n",
    "\n",
    "3. Submit the .ipynb and .py file to Quercus.\n",
    "\n",
    "## Questions and Support\n",
    "1. Please ask class content questions on the class GitHub page: \n",
    "https://github.com/BME1478H/Fall2020class/ Expect a processing time of 1d for us to respond. As such, we cannot guarantee we can address your questions and work through all the troubleshooting in time if you ask them the night before or the day of the assignment deadline. Please plan accordingly. \n",
    "2. Join a Wednesday Q&A session on Zoom.\n"
   ]
  },
  {
   "cell_type": "markdown",
   "metadata": {},
   "source": [
    "Run the following cell to get started. "
   ]
  },
  {
   "cell_type": "code",
   "execution_count": null,
   "metadata": {},
   "outputs": [],
   "source": [
    "import pandas as pd\n",
    "import numpy as np\n",
    "import seaborn as sns #visualisation\n",
    "import matplotlib.pyplot as plt #visualisation\n",
    "\n",
    "# load in our gapminder dataset\n",
    "url = 'https://raw.githubusercontent.com/BME1478H/Fall2020class/master/data/world-data-gapminder.csv'\n",
    "world_data = pd.read_csv(url)"
   ]
  },
  {
   "cell_type": "markdown",
   "metadata": {},
   "source": [
    "# Task 1 (1 mark)\n",
    "\n",
    "In the markdown cell below, write the difference between when you would use `df.pivot()` and `df.pivot_table()` where `df` is a dataframe you have loaded. (1 mark)"
   ]
  },
  {
   "cell_type": "markdown",
   "metadata": {},
   "source": [
    "Answer here (edit cell by double-clicking):\n",
    "- \n",
    "- \n",
    "\n"
   ]
  },
  {
   "cell_type": "markdown",
   "metadata": {},
   "source": [
    "# Task 2 (3.5 marks)\n",
    "\n",
    "Aggregate and summarize the population size over time from 1970 to 2010. We've subset `world_data` to only include data where the `year` is one of [1970,1980,1990,2000,2010] using the `.isin()` method and stored it in `world_data_decades1970`.\n",
    "\n",
    "a) Using the `world_data_decades1970` subset, create a `world_data_decades1970_le` dataframe which groups by `region`, `year`, and computes the `mean` of the `life_expectancy` column.\n",
    "- Don't forget to use `reset_index()` to make it look like a dataframe again. (1 mark)"
   ]
  },
  {
   "cell_type": "code",
   "execution_count": null,
   "metadata": {},
   "outputs": [],
   "source": [
    "# run this cell\n",
    "world_data_decades1970 = world_data[world_data.year.isin([1970,1980,1990,2000,2010])]\n",
    "world_data_decades1970.head(2)"
   ]
  },
  {
   "cell_type": "code",
   "execution_count": null,
   "metadata": {},
   "outputs": [],
   "source": [
    "# 2a answer here 0.5 marks\n",
    "world_data_decades1970_le = \n",
    "\n",
    "# keep this here to preview the dataframe\n",
    "world_data_decades1970_le.head()"
   ]
  },
  {
   "cell_type": "markdown",
   "metadata": {},
   "source": [
    "b) Using `world_data_decades1970_le` dataframe and `pivot()` to pivot the table from 'long' to 'wide' format with one row per `region`, and one column per decade in `years`, and where each cell contains have the `mean` of `life_expectancy` (which you have already calculated). Store in `decades1970_pivot`. (0.5 marks)"
   ]
  },
  {
   "cell_type": "code",
   "execution_count": null,
   "metadata": {},
   "outputs": [],
   "source": [
    "# 2b answer here 0.5 marks\n",
    "decades1970_pivot =  \n",
    "\n",
    "# keep this here to preview the dataframe\n",
    "decades1970_pivot"
   ]
  },
  {
   "cell_type": "markdown",
   "metadata": {},
   "source": [
    "c) Start from `world_data_decades1970` and use `pivot_table()` to do the same thing you did in (a) and (b) but in one step. (0.5 marks) \n",
    "Store the result in `decades1970_pivottable`. "
   ]
  },
  {
   "cell_type": "code",
   "execution_count": null,
   "metadata": {},
   "outputs": [],
   "source": [
    "# 2c answer here 0.5 marks\n",
    "decades1970_pivottable = \n",
    "\n",
    "\n",
    "# keep this here to preview the dataframe\n",
    "decades1970_pivottable"
   ]
  },
  {
   "cell_type": "markdown",
   "metadata": {},
   "source": [
    "d) Again, start from `world_data_decades1970` and use `pivot_table()` to do the same thing you did in (c) but use it to find the `median` of the `life_expectancy` instead of the `mean`. (0.5 marks)  \n",
    "Set `margins=True` to draw the borders in each cell.  \n",
    "Store the result in `decades1970_pivottable_median`.   \n",
    "Hint: you can change the aggregation function of `pivot_table()` by setting the parameter `aggfunc=function_you_want`."
   ]
  },
  {
   "cell_type": "code",
   "execution_count": null,
   "metadata": {},
   "outputs": [],
   "source": [
    "# 2d answer here\n",
    "decades1970_pivottable_median = \n",
    "\n",
    "\n",
    "# keep this here to preview the dataframe\n",
    "decades1970_pivottable_median"
   ]
  },
  {
   "cell_type": "markdown",
   "metadata": {},
   "source": [
    "e) We subset `world_data` for you in `subset_2e` to include the columns `children_per_woman` and `child_mortality` for the year 1970. (0.5 marks)\n",
    "\n",
    "In a variable called `subset_melted`, use `subset_2e` to turn the data from 'wide' to 'long' format such that `country` and `year` columns are still kept intact, and the `children_per_woman` and `child_mortality` columns are indicated under the 'variable' column. "
   ]
  },
  {
   "cell_type": "code",
   "execution_count": null,
   "metadata": {},
   "outputs": [],
   "source": [
    "# run this cell\n",
    "subset_2e = world_data[world_data.year == 1970][['country', 'year', 'children_per_woman', 'child_mortality']]\n",
    "subset_2e.head(2)"
   ]
  },
  {
   "cell_type": "code",
   "execution_count": null,
   "metadata": {},
   "outputs": [],
   "source": [
    "# 2e answer here\n",
    "subset_melted = \n",
    "\n",
    "# keep this code here to check the result\n",
    "subset_melted.head()"
   ]
  },
  {
   "cell_type": "markdown",
   "metadata": {},
   "source": [
    "___\n",
    "Hint: when you have a dataframe called `df` and you're using `df.melt(id_vars=['column1', 'column2'], value_vars=['column3', 'column4'])`, the `id_vars` argument indicates which columns to keep as identifiers/kept intact, and the `value_vars` argument indicates which will be 'melted' into the 'variable' column and the value for those variables indicated the 'value' column. \n",
    "___"
   ]
  },
  {
   "cell_type": "markdown",
   "metadata": {},
   "source": [
    "f) Since the year is always 1970, it is not so useful to display the `year` column. Do the same as you did in 2(e) and set either the `id_vars` and/or `value_vars` in `melt()` such that `year` is not included and store in `subset_melted_2`. (0.5 marks)\n",
    "- DO NOT create your melted dataframe and then subset the columns at the end to exclude 'year' i.e. `df.loc['country', 'variable', 'value']`, this will NOT be given full marks."
   ]
  },
  {
   "cell_type": "code",
   "execution_count": null,
   "metadata": {},
   "outputs": [],
   "source": [
    "# 2f answer here\n",
    "subset_melted_2 =  \n",
    "\n",
    "# keep this code here to check the result\n",
    "subset_melted_2.head()"
   ]
  },
  {
   "cell_type": "markdown",
   "metadata": {},
   "source": [
    "___\n",
    "# Task 3 (3.5 marks)\n",
    "Let's test whether the `life_expectancy` in the `Americas` or `Asia` region of the world changed between 1970 to 2000. We've already subset the data for you.\n",
    "\n",
    "a) Using `amer_asia_1970_2000` which we created for you below, create two variables called `le_asia_1970` and `le_amer_1970` which only contain the `life_expectancy` values for the year `1970` in rows where the `region` is `Asia` or `Americas`, respectively (1 mark).\n",
    "\n",
    "(i.e. `le_asia_1970` only has `life_expectancy` for `1970` for `Asia` and `le_amer_1970` only has `life_expectancy` for `1970` for `Americas`)"
   ]
  },
  {
   "cell_type": "code",
   "execution_count": null,
   "metadata": {},
   "outputs": [],
   "source": [
    "# run this cell to get started\n",
    "import pandas as pd\n",
    "import seaborn as sns\n",
    "from scipy import stats\n",
    "\n",
    "world_data_decades1970 = world_data[world_data.year.isin([1970,1980,1990,2000,2010])] \n",
    "\n",
    "amer_asia_1970_2000 = world_data_decades1970[world_data_decades1970.region.isin(['Asia','Americas']) &\n",
    "                                                  world_data_decades1970.year.isin([1970,2000])]\n",
    "amer_asia_1970_2000.head(2)"
   ]
  },
  {
   "cell_type": "code",
   "execution_count": null,
   "metadata": {},
   "outputs": [],
   "source": [
    "# 3a answer here 1 mark\n",
    "le_asia_1970 = \n",
    "le_amer_1970 = \n",
    "\n",
    "\n",
    "# keep this code here to check our results\n",
    "print(le_asia_1970.head())\n",
    "print(le_amer_1970.head())"
   ]
  },
  {
   "cell_type": "markdown",
   "metadata": {},
   "source": [
    "___\n",
    "Hint: Don't forget when you are filtering your data by multiple criterion, it is useful to wrap your boolean statements/criteria (e.g. `df['columnname'] == 50'`) in `(` `)` and use `&` (and), `|` (or) to specify the logic.\n",
    "\n",
    "For example:\n",
    "\n",
    "`df.loc[(df.column_1 > 10) & (df.column_2 < 100)]` will select rows where `column_1` is greater than 10 AND `column_2` is less than 100. \n",
    "___"
   ]
  },
  {
   "cell_type": "code",
   "execution_count": null,
   "metadata": {},
   "outputs": [],
   "source": [
    "# run this cell to visualize the distribution of life_expectancy in the Asia/America in 1970\n",
    "sns.kdeplot(le_amer_1970, legend=False)\n",
    "sns.kdeplot(le_asia_1970, legend=False)"
   ]
  },
  {
   "cell_type": "markdown",
   "metadata": {},
   "source": [
    "b) The distributions sure look different, but let's use a t-test to statistically test the difference. Using `stats.ttest_ind()` run a t-test which compares the `life_expectancy` values in the `le_asia_1970` and `le_amer_1970`. Store in `ttest_le`. (0.5 marks)"
   ]
  },
  {
   "cell_type": "code",
   "execution_count": null,
   "metadata": {},
   "outputs": [],
   "source": [
    "# 3b answer here 0.5 marks\n",
    "ttest_le = \n",
    "\n",
    "# keep here to inspect result\n",
    "print(ttest_le.statistic)\n",
    "print(ttest_le.pvalue)"
   ]
  },
  {
   "cell_type": "markdown",
   "metadata": {},
   "source": [
    "c) Based on a *p-value* threshold of 0.05, would you reject the null-hypothesis that the means of the distributions are the same (i.e. that they are indeed different)? (0.5 marks)"
   ]
  },
  {
   "cell_type": "markdown",
   "metadata": {},
   "source": [
    "Answer here (double-click to edit this cell):\n",
    "\n",
    "(\"yes\" or \"no\")\n",
    "\n"
   ]
  },
  {
   "cell_type": "markdown",
   "metadata": {},
   "source": [
    "d) We might want to know if the `life_expectancy` has changed from 1970 to 2000, and since it's the same region over time, the variables are paired or related. \n",
    "\n",
    "Starting with `amer_asia_1970_2000`, extract the values necessary to run a paired/repeated-measures t-test (`stats.ttest_rel()`) on `life_expectancy` in `Asia` in `1970` compared to `2000` and store in `ttest_le_asia`. \n",
    "\n",
    "We've named the variables for you, please do not change them. (1 mark)"
   ]
  },
  {
   "cell_type": "code",
   "execution_count": null,
   "metadata": {},
   "outputs": [],
   "source": [
    "# 3d answer here, 1 mark\n",
    "asia_1970 =\n",
    "asia_2000 = \n",
    "\n",
    "ttest_le_asia =\n",
    "\n",
    "print(ttest_le_asia.statistic)\n",
    "print(ttest_le_asia.pvalue)"
   ]
  },
  {
   "cell_type": "markdown",
   "metadata": {},
   "source": [
    "e) Based on a *p-value* threshold of 0.05, would you reject the null-hypothesis that the means of the life expectancy in Asia in 1970 vs 2000 are the same (i.e. that they are indeed different)? (0.5 marks)\n",
    "\n",
    "**Note:** the values in scientific notation like `1.89102e-6` means the decimal is actually 6 placed to the right of where it's shown (i.e. `0.00000189102`)"
   ]
  },
  {
   "cell_type": "markdown",
   "metadata": {},
   "source": [
    "Answer here (double-click to edit this cell):\n",
    "\n",
    "(\"yes\" or \"no\")\n",
    "\n"
   ]
  }
 ],
 "metadata": {
  "kernelspec": {
   "display_name": "Python 3",
   "language": "python",
   "name": "python3"
  },
  "language_info": {
   "codemirror_mode": {
    "name": "ipython",
    "version": 3
   },
   "file_extension": ".py",
   "mimetype": "text/x-python",
   "name": "python",
   "nbconvert_exporter": "python",
   "pygments_lexer": "ipython3",
   "version": "3.7.6"
  }
 },
 "nbformat": 4,
 "nbformat_minor": 2
}
