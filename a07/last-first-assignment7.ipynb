{
 "cells": [
  {
   "cell_type": "markdown",
   "metadata": {},
   "source": [
    "# Assignment 7: Plotting in Python"
   ]
  },
  {
   "cell_type": "markdown",
   "metadata": {},
   "source": [
    "## Instructions\n",
    "\n",
    "1. Fill in the code where indicated to complete the assignment. Feel free to add more cells than provided to try things out, and check what your variables look like, to see if you got the right results. Just make sure you have done what is asked for that question and that you don't delete any code we provide you with.\n",
    "\n",
    "2. Rename this `last_first_assignment7.ipynb` file replacing `last` and `first` with your name. Make sure all the outputs are there (run each cell) and then export as `last_first_assignment7.py` as well. In **Task 6**, you will be asked to save a `last_first_plot.png` file. \n",
    "\n",
    "3. Submit these THREE (.ipynb, .py, .png) files to Quercus.\n",
    "\n",
    "## Questions and Support\n",
    "Please ask class content questions on the class GitHub page: \n",
    "https://github.com/BME1478H/Fall2020class/ Expect a processing time of 1d for us to respond. As such, we cannot guarantee we can address your questions and work through all the troubleshooting in time if you ask them the night before or the day of the assignment deadline. Please plan accordingly.  "
   ]
  },
  {
   "cell_type": "markdown",
   "metadata": {},
   "source": [
    "Before we start, let's generate some example data, load in the world data dataset and import the packages we will need.  **Run the next cell to get started**."
   ]
  },
  {
   "cell_type": "markdown",
   "metadata": {},
   "source": [
    "import pandas as pd\n",
    "import numpy as np\n",
    "import matplotlib.pyplot as plt\n",
    "\n",
    "# load in our data\n",
    "url = 'https://raw.githubusercontent.com/BME1478H/Fall2020class/master/data/world-data-gapminder.csv'\n",
    "world_data = pd.read_csv(url)"
   ]
  },
  {
   "cell_type": "markdown",
   "metadata": {},
   "source": [
    "## Task 1 (1.5 marks)\n",
    "Plot how the world's average `child_mortality` changes over the years using the following instructions: \n",
    "\n",
    "  a) Use `groupby()` to group `world_data` by `year` and get the global mean `child_mortality` per year. (0.5 marks)\n",
    "      - Store the result in `world_child_mortality`. \n",
    "      - Use `.reset_index()` at the end of the expression to make \n",
    "        sure the result is restored as a DataFrame. \n",
    "    \n",
    "  b) Use the `fig, ax = plt.subplots()` notation to plot a `scatter` plot of the average global `child_mortality` over the years (i.e. year on the x axis, child_mortality on the y axis) Scatterplots will plot one point/marker for each value in your data. (0.5 marks)\n",
    "  \n",
    "  c) Customize the scatter plot and change the marker `color` to green, and the transparency `alpha=0.3`. (0.5 marks)\n",
    "    "
   ]
  },
  {
   "cell_type": "markdown",
   "metadata": {},
   "source": [
    "Write your code below, only one plot (with all the requirements from the question above) is required. "
   ]
  },
  {
   "cell_type": "markdown",
   "metadata": {},
   "source": []
  },
  {
   "cell_type": "markdown",
   "metadata": {},
   "source": [
    "___\n",
    "**Hint**: You can use `groupby` on a dataframe to group values based on the grouping(s) of columns of your choice. You can then aggregate calculations over values in the dataframe based on those groupings. For example:\n",
    "\n",
    "For example:\n",
    "\n",
    "`world_data.groupby('region')['population'].sum().reset_index()`\n",
    "\n",
    "- `world_data.groupby('region')` groups `world_data` by the `region` column (i.e. 'Asia', 'Europe', 'Africa', 'Americas', 'Oceania')\n",
    "- the `['population'].sum()` portion uses the groupby object to calculates the `sum` of the `\"population\"` column for each of the grouped `\"region\"`. You can repeat this for any column(s) of your choosing, it doesn't have to be the `population`.\n",
    "- `.reset_index()` makes sure the results are output as a DataFrame again\n",
    "\n",
    "**Hint**: The object-oriented plotting interface for `matplotlib` provides further access to modifying plot features. We first create \"figure\" and \"axes\" objects by calling `plt.subplots()`. Then we can use those objects to add our actual data/visualizations to them.\n",
    "\n",
    "For example:\n",
    "\n",
    "```\n",
    "# some toy data\n",
    "x = np.arange(0,5,1)\n",
    "y = x * 2\n",
    "z = x * 3\n",
    "\n",
    "# stores the figure and axes in fig, ax, then plots our values into the ax object\n",
    "fig, ax = plt.subplots()\n",
    "ax.plot(x, y, color='red') # plot connected by lines\n",
    "ax.scatter(x, z, color='blue') # scatter plot with values shown as points\n",
    "```\n",
    "You can try copying the code above and running it in a code cell to see what it looks like. Try to guess before you plot it.\n",
    "\n",
    "Alternatively, if you are plotting from a dataframe, you need to indicate which columns from the data to use as the 'x' and 'y' axes and specify the source of the `data`:\n",
    "\n",
    "```\n",
    "world_pop = world_data.groupby('year')['population'].sum().reset_index()\n",
    "\n",
    "fig, ax = plt.subplots()\n",
    "ax.scatter(x='year', y='population', data=world_pop, color='purple')\n",
    "```\n",
    "\n",
    "**Further information**: To see what things you can customize in your `scatter` plot, type `?plt.scatter` or `?ax.scatter` into a code cell. It's a lot to read, but you can skim through to find more info on the parameter you're interested in."
   ]
  },
  {
   "cell_type": "markdown",
   "metadata": {},
   "source": [
    "___\n"
   ]
  },
  {
   "cell_type": "markdown",
   "metadata": {},
   "source": [
    "## Task 2 (0.5 mark)\n",
    "\n",
    "a. Plot the same data from `Task 1` using seaborn instead of matplotlib. Seaborn has a `scatterplot` function. (0.5 marks)"
   ]
  },
  {
   "cell_type": "markdown",
   "metadata": {},
   "source": [
    "Write your code below:"
   ]
  },
  {
   "cell_type": "markdown",
   "metadata": {},
   "source": []
  },
  {
   "cell_type": "markdown",
   "metadata": {},
   "source": [
    "___\n",
    "**Hint** Have you imported seaborn?\n",
    "\n",
    "**Hint** Have you specified `x`, `y`, and the `data` where the x and y you specified can be found? \n",
    "\n",
    "**Hint** Most of the parameter names for setting the aesthetics of a plot used in matplotlib can also be used in seaborn, but you can also look through the documentation for that function `?plotting_function_here` to see more. \n",
    "___"
   ]
  },
  {
   "cell_type": "markdown",
   "metadata": {},
   "source": [
    "## Task 3 (1 mark)\n",
    "\n",
    "`seaborn` facilitates the visualization of common statistical aggregations (mean, min, max, sum etc).\n",
    "For example, when using `lineplot` in `seaborn`, the default is to aggregate and average all observations with the same value on the x-axis, and to create a shaded region representing the 95% confidence interval for these observations. It is actually using `groupby` on the dataframe you pass it under the hood, so that you don't have to!\n",
    "\n",
    "Plot the change in `child_mortality` across `year` using seaborn's `lineplot` function using `world_data` (do not use our summarized data in `world_child_mortality`) using the following specifications:\n",
    "\n",
    "a) Use `ci='sd'` in `lineplot` such that the variability around the values is shown instead of the 95% confidence interval (0.25 marks)\n",
    "\n",
    "b) Store the correct `lineplot` in a variable named `ax` (0.25 marks)\n",
    "\n",
    "c) Use the `set_title` method of `ax` to set the title to `Global child mortality since the 1800s`. Use `fontsize=16`  (0.25 marks)\n",
    "\n",
    "d) Use the methods `set_xlabel` and `set_ylabel` of the `ax` object to change BOTH the labels from \"year\" to \"Year\", and \"child_mortality\" to \"Child Mortality\", respectively. Use `fontsize=12` (0.25 marks). \n"
   ]
  },
  {
   "cell_type": "markdown",
   "metadata": {},
   "source": [
    "Write your code below:"
   ]
  },
  {
   "cell_type": "markdown",
   "metadata": {},
   "source": []
  },
  {
   "cell_type": "markdown",
   "metadata": {},
   "source": [
    "___\n",
    "**Hint** The returned object from calling a `seaborn` plotting function is a `matplotlib` axes,\n",
    "so all configuration available through `matplotlib` can be applied to the returned object by first assigning it to a variable name (`ax` by convention). \n",
    "\n",
    "For example, from lecture:\n",
    "```\n",
    "ax = sns.lineplot(x='year', y='population', data=world_data, estimator='sum', ci=None)\n",
    "ax.set_title('World population since the 1800s', fontsize=16)\n",
    "ax.set_xlabel('Year', fontsize=12)\n",
    "\n",
    "# to change the appearance (scale) of the y axis labels \n",
    "ax.set_yticklabels(ax.get_yticks()/1000000000);\n",
    "ax.set(ylabel='Population (Billion)');\n",
    "```\n",
    "___"
   ]
  },
  {
   "cell_type": "markdown",
   "metadata": {},
   "source": [
    "## Task 4 (0.5 marks)\n",
    "\n",
    "Plot the change in `child_mortality` across `year` again using all the same specifications from `Task 3`, but this time, we also want to the subset the data such that we plot one differently colored and styled line per `income_group` . Follow the instructions below to further customize our plot:\n",
    "\n",
    "a) Subset the plot by `income_group` by setting the `hue` and `style` arguments in `lineplot`. (0.25 marks)\n",
    "\n",
    "b) Remove any shading around the lines `ci=None` to clean up our plot as we are more interested in the differences in income groups than the variation across the globe. (0.25 marks)"
   ]
  },
  {
   "cell_type": "markdown",
   "metadata": {},
   "source": [
    "write your code below:"
   ]
  },
  {
   "cell_type": "markdown",
   "metadata": {},
   "source": []
  },
  {
   "cell_type": "markdown",
   "metadata": {},
   "source": [
    "## Task 5 (2 marks)\n",
    "\n",
    "\n",
    "Visualizing categorical variables in this manner is a key step in exploratory data analysis,\n",
    "and thus `seaborn` has a dedicated plot function for this,\n",
    "called `relplot()`\n",
    "(for \"relational plot\" since it visualizes the relationships between numerical variables).\n",
    "The syntax to `relplot()` is very similar to `lineplot()`,\n",
    "but we need to specify that the kind of plot we want is a line plot.\n"
   ]
  },
  {
   "cell_type": "markdown",
   "metadata": {},
   "source": [
    "a) Use `relplot()` to visualize whether there is a relationship between the **average** `child_mortality` across time and `income_group` for each `region` of the world using the `world_data` dataset.  Each of these `region` subplots should plot **different lines** for each `income_group`. (0.5 marks)\n",
    "\n",
    "b) Set `ci=None` to remove the confidence intervals. (0.5 marks)\n",
    "\n",
    "c) Set `col_wrap=3` to wrap the subplots onto the next line when more than 3 plots are plotted. (0.5 marks)\n",
    "\n",
    "d) Set the x/y labels using the `set_axis_labels()` method which takes an `x_var` label string and `y_var` label string (0.5 marks)"
   ]
  },
  {
   "cell_type": "markdown",
   "metadata": {},
   "source": [
    "write your code below:"
   ]
  },
  {
   "cell_type": "markdown",
   "metadata": {},
   "source": []
  },
  {
   "cell_type": "markdown",
   "metadata": {},
   "source": [
    "___\n",
    "**Hint** Often it can be helpful to see how someone else generated a similar plot, to figure out how to build the plot you want. \n",
    "\n",
    "Look at this code (you can run it to see what it looks like) and use it to help you figure out how to plot your visualization. \n",
    "```\n",
    "ax = sns.relplot(x='year', y='population', data=world_data, estimator='sum',\n",
    "            kind='line', hue='income_group', col='region', ci=None,\n",
    "           col_wrap=3)\n",
    "```\n",
    "\n",
    "This plot looks at whether there is a relationship between the sum of population sizes across time and income grouping for different regions in the world.  \n",
    "\n",
    "We need to specify `kind='line'` because the default `relplot` style is `scatter`.\n",
    "___"
   ]
  },
  {
   "cell_type": "markdown",
   "metadata": {},
   "source": [
    "## Task 6 (2.5 marks)\n",
    "\n",
    "Subset `world_data` to only include rows from `2014` and use this subset (you can store it in a variable named `world_data_2014`) to replicate this plot and use the `savefig` method to save the file as `last_first_plot.png` where `last` is your last name and `first` is your first name. This should be submitted along with your assignment files. \n",
    "\n",
    "![alt](https://raw.githubusercontent.com/BME1478H/Winter2020class/master/Figures/assignment7fig.png)\n",
    "\n",
    "Mark breakdown:\n",
    "\n",
    "1. Correct type of plot and data used for x/y axes (0.5 mark)\n",
    "2. Facetted by correct column, and subset (within each plot) by correct column (0.5 marks)\n",
    "2. Column wrapping maintained (max 3 per column) (0.5 marks)\n",
    "3. Renamed axes labels so x is \"Children per woman\", y is \"Years in school (women)\" (0.5 marks)\n",
    "4. Saving the plot correctly and uploading it (0.5 marks)\n",
    "\n",
    "Write your code here:"
   ]
  },
  {
   "cell_type": "markdown",
   "metadata": {},
   "source": []
  }
 ],
 "metadata": {
  "kernelspec": {
   "display_name": "Python 3",
   "language": "python",
   "name": "python3"
  },
  "language_info": {
   "codemirror_mode": {
    "name": "ipython",
    "version": 3
   },
   "file_extension": ".py",
   "mimetype": "text/x-python",
   "name": "python",
   "nbconvert_exporter": "python",
   "pygments_lexer": "ipython3",
   "version": "3.7.6"
  }
 },
 "nbformat": 4,
 "nbformat_minor": 4
}
