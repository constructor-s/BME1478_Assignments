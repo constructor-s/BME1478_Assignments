{
 "metadata": {
  "language_info": {
   "codemirror_mode": {
    "name": "ipython",
    "version": 3
   },
   "file_extension": ".py",
   "mimetype": "text/x-python",
   "name": "python",
   "nbconvert_exporter": "python",
   "pygments_lexer": "ipython3",
   "version": "3.7.4-final"
  },
  "orig_nbformat": 2,
  "kernelspec": {
   "name": "python37464bitbaseconda8b93e2ad9b954654bc5488f24e11b720",
   "display_name": "Python 3.7.4 64-bit ('base': conda)"
  }
 },
 "nbformat": 4,
 "nbformat_minor": 2,
 "cells": [
  {
   "cell_type": "markdown",
   "metadata": {},
   "source": [
    "# BME1478 Fall 2020 Assignment #3, Introduction to Python \n",
    "Name: Runjie (Bill) Shi\n",
    "Student number: 1001182472"
   ]
  },
  {
   "cell_type": "markdown",
   "metadata": {},
   "source": [
    "## 1. Simulate bacterial population size data that follows an exponential growth."
   ]
  },
  {
   "cell_type": "code",
   "execution_count": 109,
   "metadata": {},
   "outputs": [],
   "source": [
    "#%% Imports\n",
    "import numpy as np"
   ]
  },
  {
   "cell_type": "code",
   "execution_count": 110,
   "metadata": {},
   "outputs": [],
   "source": [
    "#%% a\n",
    "N0 = 100 # initial population\n",
    "rate = 0.4 # growth rate"
   ]
  },
  {
   "cell_type": "code",
   "execution_count": 111,
   "metadata": {},
   "outputs": [],
   "source": [
    "#%% b\n",
    "t = np.arange(0, 10.2, 0.2) # an array of time points from 0 to 10 arbitrary time units, in 0.2 increments\n",
    "# According to https://github.com/BME1478H/Fall2020class/issues/42, this is 0 to 10 *inclusive*"
   ]
  },
  {
   "cell_type": "markdown",
   "metadata": {},
   "source": [
    "\\begin{align}\n",
    "\\textrm{Population Size} = N_0 \\exp(rt)\n",
    "\\end{align}"
   ]
  },
  {
   "cell_type": "code",
   "execution_count": 112,
   "metadata": {},
   "outputs": [],
   "source": [
    "#%% c\n",
    "# calculate the population of the colony at the time points in t, using the exponential growth function\n",
    "population_size = N0 * np.exp(rate*t)"
   ]
  },
  {
   "cell_type": "code",
   "execution_count": 113,
   "metadata": {},
   "outputs": [],
   "source": [
    "np.random.seed(0) # Reproducible random numbers\n",
    "population_size_noise = (\n",
    "    N0 * np.exp(rate*t) + # use the same expression you wrote in (c), \n",
    "    np.random.normal(loc=0, scale=250, size=t.shape) #and add noise to the population at each time point\n",
    ")\n",
    "# According to https://github.com/BME1478H/Fall2020class/issues/38, it is expected that sometimes the population size will be less than zero"
   ]
  },
  {
   "cell_type": "code",
   "execution_count": 114,
   "metadata": {},
   "outputs": [],
   "source": [
    "# import matplotlib.pyplot as plt\n",
    "# plt.plot(t, population_size, '-', t, population_size_noise, 'x')"
   ]
  },
  {
   "cell_type": "markdown",
   "metadata": {},
   "source": [
    "## 2. Let's assume we don't know the rate of the population growth, but we do have the data of the population size across time..."
   ]
  },
  {
   "cell_type": "code",
   "execution_count": 115,
   "metadata": {},
   "outputs": [],
   "source": [
    "#%% a\n",
    "range_rate = np.arange(0.1, 1.1, 0.1) # an array with a range of parameters to test from 0.1, up to and including 1, of step size 0.1"
   ]
  },
  {
   "cell_type": "code",
   "execution_count": 116,
   "metadata": {},
   "outputs": [],
   "source": [
    "#%% b\n",
    "def squared_error(prediction, data):\n",
    "    r\"\"\"\n",
    "    Function to calculate the sqaured error between two arrays of data.\n",
    "\n",
    "    Parameters\n",
    "    ----------\n",
    "    prediction : array_like\n",
    "        an array of the predicted data\n",
    "    data : array_like\n",
    "        an array of the observed data\n",
    "\n",
    "    Returns\n",
    "    -------\n",
    "    mse : float\n",
    "        a float containing the calculated mean squared error\n",
    "    \"\"\"\n",
    "    residual = prediction - data # the difference between our prediction and data at each time point, they are arrays, so they will automatically do this element-wise\n",
    "    mse = np.mean(residual ** 2.0) # square the residual, again, element-wise by default, and then get the mean to calculate the mean squared error\n",
    "    return mse\n"
   ]
  },
  {
   "cell_type": "code",
   "execution_count": 117,
   "metadata": {
    "tags": []
   },
   "outputs": [
    {
     "output_type": "stream",
     "name": "stdout",
     "text": "We predict the rate of growth of this bacterial population to be 0.4\n"
    }
   ],
   "source": [
    "#%% c\n",
    "mse = [ ] # initialize a list to store our results\n",
    "\n",
    "for rate_guess in range_rate:\n",
    "\n",
    "    prediction = N0 * np.exp(rate_guess*t) # generate our prediction for the given growth rate we are testing\n",
    "\n",
    "    error = squared_error(prediction, population_size_noise) # compare the \"prediction\" we made in the last line to our \"real data\" in population_size_noise using the squared_error function we made\n",
    "\n",
    "    mse.append(error) # add the error for this rate the mse list. how do we add a value to a pre-existing list?\n",
    "\n",
    "# find the index of the minimum value in mse, look up how to use np.argmin() to do this\n",
    "\n",
    "idx_min_mse = np.argmin(mse)\n",
    "\n",
    "# use the index of the min value in mse to obtain the corresponding rate\n",
    "\n",
    "# remember the arrays are the same size, and generated in order when iterating over range_rates\n",
    "\n",
    "best_fit = range_rate[idx_min_mse]\n",
    "\n",
    "\n",
    "\n",
    "print('We predict the rate of growth of this bacterial population to be', best_fit)"
   ]
  }
 ]
}