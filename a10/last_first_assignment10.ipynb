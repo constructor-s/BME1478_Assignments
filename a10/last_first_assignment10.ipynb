{
 "cells": [
  {
   "cell_type": "code",
   "execution_count": null,
   "metadata": {},
   "outputs": [],
   "source": [
    "# Assignment 10  - Tests of Association\n",
    "\n",
    "## Instructions\n",
    "\n",
    "1. Download `last_first_assignment10.ipynb` and fill in the code where indicated to complete the assignment. Feel free to add more cells than provided to try things out, and check what your variables look like, to see if you got the right results. Just make sure you have done what is asked for that question and that you don't delete any code we provide you with.\n",
    "\n",
    "2. Rename this `last_first_assignment10.ipynb` file replacing `last` and `first` with your name. Make sure all the outputs are there (run each cell) and export the .py file.\n",
    "\n",
    "3. Submit the .ipynb and .py file to Quercus.\n",
    "\n",
    "## Questions and Support\n",
    "1. Please ask class content questions on the class GitHub page: \n",
    "https://github.com/BME1478H/Winter2020class/ Expect a processing time of 1d for us to respond. As such, we cannot guarantee we can address your questions and work through all the troubleshooting in time if you ask them the night before or the day of the assignment deadline. Please plan accordingly."
   ]
  },
  {
   "cell_type": "markdown",
   "metadata": {},
   "source": [
    "Run the following cell to get started."
   ]
  },
  {
   "cell_type": "code",
   "execution_count": null,
   "metadata": {},
   "outputs": [],
   "source": [
    "# load in packages\n",
    "import pandas as pd\n",
    "import numpy as np\n",
    "import matplotlib.pyplot as plt\n",
    "import seaborn as sns\n",
    "import statsmodels.api as sm\n",
    "import statsmodels.formula.api as smf\n",
    "\n",
    "# load in data\n",
    "url = 'https://raw.githubusercontent.com/BME1478H/Winter2020class/master/data/world-data-gapminder.csv'\n",
    "world_data = pd.read_csv(url)\n",
    "\n",
    "# subset 2014 for this assignment\n",
    "world_data_2014 = world_data.loc[world_data['year'] == 2014]"
   ]
  },
  {
   "cell_type": "markdown",
   "metadata": {},
   "source": [
    "**IMPORTANT NOTE: Use the `world_data_2014` subset for all the following questions** \n",
    "\n",
    "Do NOT use `world_data`, it is only used to read in our subset, doing otherwise will lead to the wrong results)."
   ]
  },
  {
   "cell_type": "markdown",
   "metadata": {},
   "source": [
    "## Short Answer Questions (1 mark) \n",
    "\n",
    "Answer by editing the cell (this is a markup cell, you can write your answer in it by double clicking on it to open for editing).\n",
    "\n",
    "a. What is multicolinearity in data? and why should we confirm that there is none amongst our independant variables when using linear regression? (0.3 marks)\n",
    "\n",
    "- \n",
    "- \n",
    "\n",
    "\n",
    "b. Name one difference between using the `OLS()` function from  `statsmodels.api` versus the one from `statsmodels.formula.api`. (0.2 marks)\n",
    "\n",
    "- \n",
    "\n"
   ]
  },
  {
   "cell_type": "markdown",
   "metadata": {},
   "source": [
    "## Task 1 (2 marks)\n",
    "\n",
    "Is child mortality a predictor for a nation's life expectancy? \n",
    "\n",
    "a. Using `world_data_2014`, create a variable `x` that only has the values for the `child_mortality` column and a variable `y` that has the values for the `life_expectancy` column. (0.5 marks)"
   ]
  },
  {
   "cell_type": "code",
   "execution_count": null,
   "metadata": {},
   "outputs": [],
   "source": [
    "x = \n",
    "y =\n",
    "\n",
    "# do not change the code below\n",
    "print(x.head())\n",
    "print(y.head())"
   ]
  },
  {
   "cell_type": "markdown",
   "metadata": {},
   "source": [
    "b. Use `sm.add_constant()` to add a column of 1.0's to `x` (store again in the same variable `x`). (0.5 marks)"
   ]
  },
  {
   "cell_type": "code",
   "execution_count": null,
   "metadata": {},
   "outputs": [],
   "source": [
    "x = \n",
    "\n",
    "# do not change the code below\n",
    "x.head()"
   ]
  },
  {
   "cell_type": "markdown",
   "metadata": {},
   "source": [
    "c. Using the variables `x` and `y`, and the function `sm.OLS()`:\n",
    "- define a variable `model` to create a simple OLS model.\n",
    "- define a variable `results` where you fit the `model`. \n",
    "\n",
    "The first argument passed to the function is the dependant variable (i.e. `life_expectancy`) and the second argument is the independant variable (i.e. `child_mortality`). (0.5 marks)"
   ]
  },
  {
   "cell_type": "code",
   "execution_count": null,
   "metadata": {},
   "outputs": [],
   "source": [
    "model = \n",
    "\n",
    "results =\n",
    "\n",
    "# do not change the code below\n",
    "print(results.summary())"
   ]
  },
  {
   "cell_type": "markdown",
   "metadata": {},
   "source": [
    "___\n",
    "d. Use `sns.scatterplot()` to plot the `life_expectancy` against the `child_mortality` in the `world_data_2014` dataset. And in the same code cell, use `plt.plot()` to plot `results.fittedvalues` against the `child_mortality`. (0.5 marks)\n",
    "\n",
    "Hint: make sure you pass the actual data/values to `plt.plot()`, i.e. `world_data_2014.child_mortality` not just the column name `\"child_mortality\"`"
   ]
  },
  {
   "cell_type": "code",
   "execution_count": null,
   "metadata": {},
   "outputs": [],
   "source": [
    "\n",
    "\n"
   ]
  },
  {
   "cell_type": "markdown",
   "metadata": {},
   "source": [
    "### Task 2  (3 marks)"
   ]
  },
  {
   "cell_type": "markdown",
   "metadata": {},
   "source": [
    "In class, we learned about how to use the \"formula\" notation when we want to write out more complicated tests of interactions and associations in our data. \n",
    "\n",
    "For example, in our dataset, we tested whether `children_per_woman` was a predictor of `child_mortality` by writing a formula like so:\n",
    "\n",
    "\n",
    "`child_mortality ~ children_per_woman`\n",
    "\n",
    "To write out this formula, we put the dependant variable on the left and the independant variable on the right separated by `~`.\n",
    "\n",
    "\n",
    "___\n",
    "\n",
    "a. Write three formulas named `formula_1`, `formula_2`, and `formula_3` to test the following relationships in order:\n",
    "1. formula_1: Does child_mortality predict a nation's life_expectancy?\n",
    "2. formula_2: Does a nation's GDP (income) predict the co2_per_capita emissions?\n",
    "3. formula_3: Does the years_in_school_women predict the number of children_per_woman born?\n",
    "\n",
    "They need to be stored as strings. (1 mark)"
   ]
  },
  {
   "cell_type": "code",
   "execution_count": null,
   "metadata": {},
   "outputs": [],
   "source": [
    "formula_1 = \n",
    "formula_2 = \n",
    "formula_3 = "
   ]
  },
  {
   "cell_type": "markdown",
   "metadata": {},
   "source": [
    "Using formula_2 and formula_3 only:\n",
    "\n",
    "b. Use `smf.ols()` to fit `world_data_2014` with the given formula. You can create and fit an OLS using `smf.ols` in one line by doing:\n",
    "\n",
    "`smf.ols(formula=your_formula_variable, data=your_dataframe).fit()`\n",
    "\n",
    "Store each result in res2, and res3, respectively (0.25 marks per formula, 0.5 total)\n",
    "\n",
    "c. Use `sns.scatterplot()` to plot the dependant variable (y-axis) against the indepedant variable (x-axis) in the `world_data_2014` dataset. And in the same code cell, use `plt.plot()` to plot `res_number.fittedvalues` against the independant variable for the given formula. (0.25 marks per formula, 0.5 total)"
   ]
  },
  {
   "cell_type": "code",
   "execution_count": null,
   "metadata": {},
   "outputs": [],
   "source": [
    "# fit the regression for formula_2 here\n",
    "res2 =\n",
    "\n",
    "\n",
    "# do not change the code below\n",
    "print(res2.summary())"
   ]
  },
  {
   "cell_type": "code",
   "execution_count": null,
   "metadata": {},
   "outputs": [],
   "source": [
    "# create the plot for formula_2 here\n",
    "\n",
    "\n",
    "\n"
   ]
  },
  {
   "cell_type": "code",
   "execution_count": null,
   "metadata": {},
   "outputs": [],
   "source": [
    "# fit the regression for formula_3 here\n",
    "res3 =\n",
    "\n",
    "\n",
    "# do not change the code below\n",
    "print(res3.summary())"
   ]
  },
  {
   "cell_type": "code",
   "execution_count": null,
   "metadata": {},
   "outputs": [],
   "source": [
    "# create the plot for formula_3 here\n",
    "\n",
    "\n",
    "\n"
   ]
  },
  {
   "cell_type": "markdown",
   "metadata": {},
   "source": [
    "___\n",
    "If we want to test for multivariate associations (y), we can modify our formulas to use the `+` symbol to indicate multiple independant variables on the right side of the `~` (e.g. x, m, b):\n",
    "\n",
    "`y ~ x + m + b`\n",
    "___"
   ]
  },
  {
   "cell_type": "markdown",
   "metadata": {},
   "source": [
    "d. Let's take a look at multiple predictors for life_expectancy. Using `sns.lmplot`, plot the `life_expectancy` against the `child_mortality` where the hue is defined by the value in the `income_group` column. (0.5 marks)"
   ]
  },
  {
   "cell_type": "code",
   "execution_count": null,
   "metadata": {},
   "outputs": [],
   "source": [
    "\n",
    "\n"
   ]
  },
  {
   "cell_type": "markdown",
   "metadata": {},
   "source": [
    "We see that there does seem to be a relationship between these variables and `life_expectancy`. Let's test this statistically. \n",
    "\n",
    "e. In a variable `results_multi`, use `smf.ols()` to test the relationship between `life_expectancy` (dependant variable), and `income_group` and `child_mortality` (the two independant variables) using formula notation. (0.5 marks)"
   ]
  },
  {
   "cell_type": "code",
   "execution_count": null,
   "metadata": {},
   "outputs": [],
   "source": [
    "results_multi = \n",
    "\n",
    "\n",
    "\n",
    "# do not change the code below\n",
    "print(results_multi.summary())"
   ]
  },
  {
   "cell_type": "markdown",
   "metadata": {},
   "source": [
    "## Task 3 (2 marks)\n",
    "\n",
    "All of the relationships we've explored so far have been linear, but what if the relationship could not be fit by a simple linear function? If you recall from lecture, we can use generalized linear models (GLM) to fit data that can be linked to a linear regression via a given distribution function (e.g. using a log function, we can turn a linear function into a log function with a given amount of noise/variance)\n",
    "___\n",
    "Let's look at whether a nation's GDP (income) is predictive of the average `child_mortality`. Run the cell below to take a look at the data. "
   ]
  },
  {
   "cell_type": "code",
   "execution_count": null,
   "metadata": {},
   "outputs": [],
   "source": [
    "# plot child_mortality against a nation's income\n",
    "sns.scatterplot('income', 'child_mortality', data=world_data_2014)"
   ]
  },
  {
   "cell_type": "markdown",
   "metadata": {},
   "source": [
    "We see that generally, the higher the income of a nation, there are relatively fewer childhood deaths. However, this relationship is non-linear, but could be represented by a `log` function. \n",
    "___\n",
    "a. Use `sm.GLM()` to create a generalized linear model stored in a variable `le_model` which models a relationship between `income` (independant variable) and `child_mortality` (dependant variable). Add a constant to independant variable using `sm.add_constant()`.\n",
    "\n",
    "Set `family=sm.families.Gaussian(link=sm.families.links.log())` to make sure we are using the correct link function. Fit the model and store the results of the fit in `le_results`. \n",
    "\n",
    "The answer can take more lines of code than provided, and/or require intermediate depending on your approach  (1 mark)"
   ]
  },
  {
   "cell_type": "code",
   "execution_count": null,
   "metadata": {},
   "outputs": [],
   "source": [
    "\n",
    "le_model = \n",
    "\n",
    "le_results = \n",
    "\n",
    "\n",
    "# do not change the code below()\n",
    "print(le_results.summary())"
   ]
  },
  {
   "cell_type": "markdown",
   "metadata": {},
   "source": [
    "Hint: you can create a GLM by providing the variables and distribution family/link like below:\n",
    "\n",
    "`sm.GLM(y, x, family=sm.families.Gaussian(link=sm.families.links.log()))` \n",
    "\n",
    "where y is your dependant variable, and x is your independant variable. \n",
    "___\n",
    "\n",
    "b. To look at how well our model predicts our data:\n",
    "1. create a plot using `sns.scatterplot()` to plot the actual `world_data_2014` data for `child_mortality` vs `income` and set `label='data'` to add a legend label\n",
    "2. in the same cell, use `plt.scatter()` to plot the `fittedvalues` stored in `le_results` against the `income` in `world_data_2014` and set `label='prediction'` to add a legend label\n",
    "\n",
    "(1 mark)"
   ]
  },
  {
   "cell_type": "code",
   "execution_count": null,
   "metadata": {},
   "outputs": [],
   "source": [
    "\n",
    "\n"
   ]
  }
 ],
 "metadata": {
  "kernelspec": {
   "display_name": "Python 3",
   "language": "python",
   "name": "python3"
  },
  "language_info": {
   "codemirror_mode": {
    "name": "ipython",
    "version": 3
   },
   "file_extension": ".py",
   "mimetype": "text/x-python",
   "name": "python",
   "nbconvert_exporter": "python",
   "pygments_lexer": "ipython3",
   "version": "3.7.6"
  }
 },
 "nbformat": 4,
 "nbformat_minor": 2
}
